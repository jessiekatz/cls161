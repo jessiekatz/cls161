{
 "cells": [
  {
   "cell_type": "code",
   "execution_count": 1,
   "metadata": {},
   "outputs": [],
   "source": [
    "# imports\n",
    "import requests\n",
    "import pandas as pd\n",
    "import spacy"
   ]
  },
  {
   "cell_type": "code",
   "execution_count": 2,
   "metadata": {},
   "outputs": [
    {
     "data": {
      "text/plain": [
       "['ner', 'parser']"
      ]
     },
     "execution_count": 2,
     "metadata": {},
     "output_type": "execute_result"
    }
   ],
   "source": [
    "nlp = spacy.load(\"en_core_web_sm\")\n",
    "nlp.disable_pipes('ner', 'parser')"
   ]
  },
  {
   "cell_type": "markdown",
   "metadata": {},
   "source": [
    "### Topic Modeling HW"
   ]
  },
  {
   "cell_type": "code",
   "execution_count": 4,
   "metadata": {},
   "outputs": [],
   "source": [
    "response = requests.get('https://www.gutenberg.org/cache/epub/514/pg514.txt')\n",
    "text = response.text"
   ]
  },
  {
   "cell_type": "code",
   "execution_count": 5,
   "metadata": {},
   "outputs": [
    {
     "data": {
      "text/plain": [
       "2554"
      ]
     },
     "execution_count": 5,
     "metadata": {},
     "output_type": "execute_result"
    }
   ],
   "source": [
    "text.find('“Christmas won’t be Christmas without any presents,”')"
   ]
  },
  {
   "cell_type": "code",
   "execution_count": 6,
   "metadata": {},
   "outputs": [
    {
     "data": {
      "text/plain": [
       "1028735"
      ]
     },
     "execution_count": 6,
     "metadata": {},
     "output_type": "execute_result"
    }
   ],
   "source": [
    "text.find('*** END ')"
   ]
  },
  {
   "cell_type": "code",
   "execution_count": 7,
   "metadata": {},
   "outputs": [],
   "source": [
    "start = 2554\n",
    "end = 1028734"
   ]
  },
  {
   "cell_type": "code",
   "execution_count": 8,
   "metadata": {},
   "outputs": [],
   "source": [
    "tale = text[start:end]"
   ]
  },
  {
   "cell_type": "code",
   "execution_count": 9,
   "metadata": {},
   "outputs": [],
   "source": [
    "tale_paras = tale.split('\\r\\n\\r\\n')"
   ]
  },
  {
   "cell_type": "code",
   "execution_count": 10,
   "metadata": {},
   "outputs": [],
   "source": [
    "author = []\n",
    "title = []"
   ]
  },
  {
   "cell_type": "code",
   "execution_count": 11,
   "metadata": {},
   "outputs": [],
   "source": [
    "for para in tale_paras:\n",
    "    author.append('Alcott')\n",
    "    title.append('Little')"
   ]
  },
  {
   "cell_type": "code",
   "execution_count": 12,
   "metadata": {},
   "outputs": [],
   "source": [
    "tale_df = pd.DataFrame(list(zip(author, title, tale_paras)), columns=['author', 'title', 'text'])"
   ]
  },
  {
   "cell_type": "code",
   "execution_count": 13,
   "metadata": {
    "scrolled": true
   },
   "outputs": [
    {
     "data": {
      "text/html": [
       "<div>\n",
       "<style scoped>\n",
       "    .dataframe tbody tr th:only-of-type {\n",
       "        vertical-align: middle;\n",
       "    }\n",
       "\n",
       "    .dataframe tbody tr th {\n",
       "        vertical-align: top;\n",
       "    }\n",
       "\n",
       "    .dataframe thead th {\n",
       "        text-align: right;\n",
       "    }\n",
       "</style>\n",
       "<table border=\"1\" class=\"dataframe\">\n",
       "  <thead>\n",
       "    <tr style=\"text-align: right;\">\n",
       "      <th></th>\n",
       "      <th>author</th>\n",
       "      <th>title</th>\n",
       "      <th>text</th>\n",
       "    </tr>\n",
       "  </thead>\n",
       "  <tbody>\n",
       "    <tr>\n",
       "      <th>0</th>\n",
       "      <td>Alcott</td>\n",
       "      <td>Little</td>\n",
       "      <td>“Christmas won’t be Christmas without any pres...</td>\n",
       "    </tr>\n",
       "    <tr>\n",
       "      <th>1</th>\n",
       "      <td>Alcott</td>\n",
       "      <td>Little</td>\n",
       "      <td>“It’s so dreadful to be poor!” sighed Meg, loo...</td>\n",
       "    </tr>\n",
       "    <tr>\n",
       "      <th>2</th>\n",
       "      <td>Alcott</td>\n",
       "      <td>Little</td>\n",
       "      <td>“I don’t think it’s fair for some girls to hav...</td>\n",
       "    </tr>\n",
       "    <tr>\n",
       "      <th>3</th>\n",
       "      <td>Alcott</td>\n",
       "      <td>Little</td>\n",
       "      <td>“We’ve got Father and Mother, and each other,”...</td>\n",
       "    </tr>\n",
       "    <tr>\n",
       "      <th>4</th>\n",
       "      <td>Alcott</td>\n",
       "      <td>Little</td>\n",
       "      <td>The four young faces on which the firelight sh...</td>\n",
       "    </tr>\n",
       "  </tbody>\n",
       "</table>\n",
       "</div>"
      ],
      "text/plain": [
       "   author   title                                               text\n",
       "0  Alcott  Little  “Christmas won’t be Christmas without any pres...\n",
       "1  Alcott  Little  “It’s so dreadful to be poor!” sighed Meg, loo...\n",
       "2  Alcott  Little  “I don’t think it’s fair for some girls to hav...\n",
       "3  Alcott  Little  “We’ve got Father and Mother, and each other,”...\n",
       "4  Alcott  Little  The four young faces on which the firelight sh..."
      ]
     },
     "execution_count": 13,
     "metadata": {},
     "output_type": "execute_result"
    }
   ],
   "source": [
    "tale_df.head()"
   ]
  },
  {
   "cell_type": "code",
   "execution_count": 15,
   "metadata": {},
   "outputs": [],
   "source": [
    "def process_text(text):\n",
    "    \"\"\"Remove new line characters and lemmatize text. Returns string of lemmas\"\"\"\n",
    "    text = text.replace('\\n', ' ')\n",
    "    doc = nlp(text)\n",
    "    tokens = [token for token in doc]\n",
    "    no_stops = [token for token in tokens if not token.is_stop]\n",
    "    no_punct = [token for token in no_stops if token.is_alpha]\n",
    "    lemmas = [token.lemma_ for token in no_punct]\n",
    "    lemmas_lower = [lemma.lower() for lemma in lemmas]\n",
    "    lemmas_string = ' '.join(lemmas_lower)\n",
    "    return lemmas_string"
   ]
  },
  {
   "cell_type": "code",
   "execution_count": 16,
   "metadata": {},
   "outputs": [],
   "source": [
    "tale_df['lemmas'] = tale_df['text'].apply(process_text)"
   ]
  },
  {
   "cell_type": "code",
   "execution_count": 17,
   "metadata": {},
   "outputs": [
    {
     "data": {
      "text/html": [
       "<div>\n",
       "<style scoped>\n",
       "    .dataframe tbody tr th:only-of-type {\n",
       "        vertical-align: middle;\n",
       "    }\n",
       "\n",
       "    .dataframe tbody tr th {\n",
       "        vertical-align: top;\n",
       "    }\n",
       "\n",
       "    .dataframe thead th {\n",
       "        text-align: right;\n",
       "    }\n",
       "</style>\n",
       "<table border=\"1\" class=\"dataframe\">\n",
       "  <thead>\n",
       "    <tr style=\"text-align: right;\">\n",
       "      <th></th>\n",
       "      <th>author</th>\n",
       "      <th>title</th>\n",
       "      <th>text</th>\n",
       "      <th>lemmas</th>\n",
       "    </tr>\n",
       "  </thead>\n",
       "  <tbody>\n",
       "    <tr>\n",
       "      <th>0</th>\n",
       "      <td>Alcott</td>\n",
       "      <td>Little</td>\n",
       "      <td>“Christmas won’t be Christmas without any pres...</td>\n",
       "      <td>christmas wo christmas present grumble jo lie rug</td>\n",
       "    </tr>\n",
       "    <tr>\n",
       "      <th>1</th>\n",
       "      <td>Alcott</td>\n",
       "      <td>Little</td>\n",
       "      <td>“It’s so dreadful to be poor!” sighed Meg, loo...</td>\n",
       "      <td>dreadful poor sigh meg look old dress</td>\n",
       "    </tr>\n",
       "    <tr>\n",
       "      <th>2</th>\n",
       "      <td>Alcott</td>\n",
       "      <td>Little</td>\n",
       "      <td>“I don’t think it’s fair for some girls to hav...</td>\n",
       "      <td>think fair girl plenty pretty thing girl add l...</td>\n",
       "    </tr>\n",
       "    <tr>\n",
       "      <th>3</th>\n",
       "      <td>Alcott</td>\n",
       "      <td>Little</td>\n",
       "      <td>“We’ve got Father and Mother, and each other,”...</td>\n",
       "      <td>get father mother say beth contentedly corner</td>\n",
       "    </tr>\n",
       "    <tr>\n",
       "      <th>4</th>\n",
       "      <td>Alcott</td>\n",
       "      <td>Little</td>\n",
       "      <td>The four young faces on which the firelight sh...</td>\n",
       "      <td>young face firelight shine brighten cheerful w...</td>\n",
       "    </tr>\n",
       "  </tbody>\n",
       "</table>\n",
       "</div>"
      ],
      "text/plain": [
       "   author   title                                               text  \\\n",
       "0  Alcott  Little  “Christmas won’t be Christmas without any pres...   \n",
       "1  Alcott  Little  “It’s so dreadful to be poor!” sighed Meg, loo...   \n",
       "2  Alcott  Little  “I don’t think it’s fair for some girls to hav...   \n",
       "3  Alcott  Little  “We’ve got Father and Mother, and each other,”...   \n",
       "4  Alcott  Little  The four young faces on which the firelight sh...   \n",
       "\n",
       "                                              lemmas  \n",
       "0  christmas wo christmas present grumble jo lie rug  \n",
       "1              dreadful poor sigh meg look old dress  \n",
       "2  think fair girl plenty pretty thing girl add l...  \n",
       "3      get father mother say beth contentedly corner  \n",
       "4  young face firelight shine brighten cheerful w...  "
      ]
     },
     "execution_count": 17,
     "metadata": {},
     "output_type": "execute_result"
    }
   ],
   "source": [
    "tale_df.head()"
   ]
  },
  {
   "cell_type": "code",
   "execution_count": 22,
   "metadata": {},
   "outputs": [],
   "source": [
    "length_filter = tale_df['lemmas'].str.len() > 25"
   ]
  },
  {
   "cell_type": "code",
   "execution_count": 23,
   "metadata": {},
   "outputs": [],
   "source": [
    "tale_df = tale_df[length_filter]"
   ]
  },
  {
   "cell_type": "code",
   "execution_count": 24,
   "metadata": {},
   "outputs": [
    {
     "data": {
      "text/html": [
       "<div>\n",
       "<style scoped>\n",
       "    .dataframe tbody tr th:only-of-type {\n",
       "        vertical-align: middle;\n",
       "    }\n",
       "\n",
       "    .dataframe tbody tr th {\n",
       "        vertical-align: top;\n",
       "    }\n",
       "\n",
       "    .dataframe thead th {\n",
       "        text-align: right;\n",
       "    }\n",
       "</style>\n",
       "<table border=\"1\" class=\"dataframe\">\n",
       "  <thead>\n",
       "    <tr style=\"text-align: right;\">\n",
       "      <th></th>\n",
       "      <th>author</th>\n",
       "      <th>title</th>\n",
       "      <th>text</th>\n",
       "      <th>lemmas</th>\n",
       "    </tr>\n",
       "  </thead>\n",
       "  <tbody>\n",
       "    <tr>\n",
       "      <th>0</th>\n",
       "      <td>Alcott</td>\n",
       "      <td>Little</td>\n",
       "      <td>“Christmas won’t be Christmas without any pres...</td>\n",
       "      <td>christmas wo christmas present grumble jo lie rug</td>\n",
       "    </tr>\n",
       "    <tr>\n",
       "      <th>1</th>\n",
       "      <td>Alcott</td>\n",
       "      <td>Little</td>\n",
       "      <td>“It’s so dreadful to be poor!” sighed Meg, loo...</td>\n",
       "      <td>dreadful poor sigh meg look old dress</td>\n",
       "    </tr>\n",
       "    <tr>\n",
       "      <th>2</th>\n",
       "      <td>Alcott</td>\n",
       "      <td>Little</td>\n",
       "      <td>“I don’t think it’s fair for some girls to hav...</td>\n",
       "      <td>think fair girl plenty pretty thing girl add l...</td>\n",
       "    </tr>\n",
       "    <tr>\n",
       "      <th>3</th>\n",
       "      <td>Alcott</td>\n",
       "      <td>Little</td>\n",
       "      <td>“We’ve got Father and Mother, and each other,”...</td>\n",
       "      <td>get father mother say beth contentedly corner</td>\n",
       "    </tr>\n",
       "    <tr>\n",
       "      <th>4</th>\n",
       "      <td>Alcott</td>\n",
       "      <td>Little</td>\n",
       "      <td>The four young faces on which the firelight sh...</td>\n",
       "      <td>young face firelight shine brighten cheerful w...</td>\n",
       "    </tr>\n",
       "  </tbody>\n",
       "</table>\n",
       "</div>"
      ],
      "text/plain": [
       "   author   title                                               text  \\\n",
       "0  Alcott  Little  “Christmas won’t be Christmas without any pres...   \n",
       "1  Alcott  Little  “It’s so dreadful to be poor!” sighed Meg, loo...   \n",
       "2  Alcott  Little  “I don’t think it’s fair for some girls to hav...   \n",
       "3  Alcott  Little  “We’ve got Father and Mother, and each other,”...   \n",
       "4  Alcott  Little  The four young faces on which the firelight sh...   \n",
       "\n",
       "                                              lemmas  \n",
       "0  christmas wo christmas present grumble jo lie rug  \n",
       "1              dreadful poor sigh meg look old dress  \n",
       "2  think fair girl plenty pretty thing girl add l...  \n",
       "3      get father mother say beth contentedly corner  \n",
       "4  young face firelight shine brighten cheerful w...  "
      ]
     },
     "execution_count": 24,
     "metadata": {},
     "output_type": "execute_result"
    }
   ],
   "source": [
    "tale_df.head()"
   ]
  },
  {
   "cell_type": "code",
   "execution_count": 25,
   "metadata": {},
   "outputs": [],
   "source": [
    "def remove_new_lines(text):\n",
    "    text = text.replace('\\n', ' ')\n",
    "    text = text.replace('\\r', ' ')\n",
    "    return text"
   ]
  },
  {
   "cell_type": "code",
   "execution_count": 26,
   "metadata": {},
   "outputs": [],
   "source": [
    "tale_df['text'] = tale_df['text'].apply(remove_new_lines)"
   ]
  },
  {
   "cell_type": "code",
   "execution_count": 27,
   "metadata": {},
   "outputs": [],
   "source": [
    "# save our work\n",
    "tale_df.to_csv('littwomen_novel.csv', index=False)"
   ]
  }
 ],
 "metadata": {
  "kernelspec": {
   "display_name": "Python 3 (ipykernel)",
   "language": "python",
   "name": "python3"
  },
  "language_info": {
   "codemirror_mode": {
    "name": "ipython",
    "version": 3
   },
   "file_extension": ".py",
   "mimetype": "text/x-python",
   "name": "python",
   "nbconvert_exporter": "python",
   "pygments_lexer": "ipython3",
   "version": "3.9.7"
  }
 },
 "nbformat": 4,
 "nbformat_minor": 4
}
