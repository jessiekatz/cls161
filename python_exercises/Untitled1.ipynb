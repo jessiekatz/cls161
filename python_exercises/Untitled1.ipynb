{
 "cells": [
  {
   "cell_type": "markdown",
   "id": "21714b89",
   "metadata": {},
   "source": [
    "## Functions"
   ]
  },
  {
   "cell_type": "code",
   "execution_count": 4,
   "id": "315f5ad9",
   "metadata": {},
   "outputs": [],
   "source": [
    "def say_hello():\n",
    "    print(\"hello\")"
   ]
  },
  {
   "cell_type": "code",
   "execution_count": 6,
   "id": "6db820a7",
   "metadata": {},
   "outputs": [
    {
     "name": "stdout",
     "output_type": "stream",
     "text": [
      "hello\n"
     ]
    }
   ],
   "source": [
    "say_hello()"
   ]
  },
  {
   "cell_type": "code",
   "execution_count": 8,
   "id": "1564edce",
   "metadata": {},
   "outputs": [],
   "source": [
    "def say_hello_name(name):\n",
    "    print(f\"Hello, {name}!\")"
   ]
  },
  {
   "cell_type": "code",
   "execution_count": 10,
   "id": "d361a394",
   "metadata": {},
   "outputs": [
    {
     "name": "stdout",
     "output_type": "stream",
     "text": [
      "Hello, jess!\n"
     ]
    }
   ],
   "source": [
    "say_hello_name(\"jess\")"
   ]
  },
  {
   "cell_type": "code",
   "execution_count": 12,
   "id": "8f095de1",
   "metadata": {},
   "outputs": [
    {
     "name": "stdout",
     "output_type": "stream",
     "text": [
      "Hello, Daniel!\n",
      "Hello, Nathan!\n",
      "Hello, Aaron!\n"
     ]
    }
   ],
   "source": [
    "names = [\"Daniel\", \"Nathan\", \"Aaron\"]\n",
    "for name in names:\n",
    "    say_hello_name(name)"
   ]
  },
  {
   "cell_type": "code",
   "execution_count": 13,
   "id": "14d822a6",
   "metadata": {},
   "outputs": [],
   "source": [
    "def describe_author(name, genre):\n",
    "    print(f\"{name.title()} writes {genre}.\")"
   ]
  },
  {
   "cell_type": "code",
   "execution_count": 14,
   "id": "fa0956e9",
   "metadata": {},
   "outputs": [
    {
     "name": "stdout",
     "output_type": "stream",
     "text": [
      "Gibbon writes history.\n"
     ]
    }
   ],
   "source": [
    "describe_author(\"Gibbon\", \"history\")"
   ]
  },
  {
   "cell_type": "code",
   "execution_count": 22,
   "id": "52c0b221",
   "metadata": {},
   "outputs": [],
   "source": [
    "def format_name(first_name, last_name):\n",
    "    full_name = f\"{first_name.title()} {last_name.title()}\"\n",
    "    return full_name"
   ]
  },
  {
   "cell_type": "code",
   "execution_count": 24,
   "id": "2eabf69a",
   "metadata": {},
   "outputs": [],
   "source": [
    "philosopher = format_name(first_name=\"friedrich\", last_name=\"nietzsche\")"
   ]
  },
  {
   "cell_type": "code",
   "execution_count": 25,
   "id": "cdb43429",
   "metadata": {},
   "outputs": [
    {
     "data": {
      "text/plain": [
       "'Friedrich Nietzsche'"
      ]
     },
     "execution_count": 25,
     "metadata": {},
     "output_type": "execute_result"
    }
   ],
   "source": [
    "philosopher"
   ]
  }
 ],
 "metadata": {
  "kernelspec": {
   "display_name": "Python 3 (ipykernel)",
   "language": "python",
   "name": "python3"
  },
  "language_info": {
   "codemirror_mode": {
    "name": "ipython",
    "version": 3
   },
   "file_extension": ".py",
   "mimetype": "text/x-python",
   "name": "python",
   "nbconvert_exporter": "python",
   "pygments_lexer": "ipython3",
   "version": "3.9.7"
  }
 },
 "nbformat": 4,
 "nbformat_minor": 5
}
