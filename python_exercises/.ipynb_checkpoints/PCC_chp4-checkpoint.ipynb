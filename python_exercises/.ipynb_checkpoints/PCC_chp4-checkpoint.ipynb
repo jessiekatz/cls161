{
 "cells": [
  {
   "cell_type": "markdown",
   "id": "7b6d427e",
   "metadata": {},
   "source": [
    "# Chapter 4 Homework"
   ]
  },
  {
   "cell_type": "markdown",
   "id": "07e57908",
   "metadata": {},
   "source": [
    "## 4.1"
   ]
  },
  {
   "cell_type": "code",
   "execution_count": 2,
   "id": "f95e9ee0",
   "metadata": {},
   "outputs": [
    {
     "name": "stdout",
     "output_type": "stream",
     "text": [
      "I love cheese\n",
      "I love margherita\n",
      "I love bbq\n",
      "My favorite pizzas are: \n",
      "cheese\n",
      "margherita\n",
      "bbq\n",
      "pineapple\n",
      "My friend's favorite pizzas are:\n",
      "cheese\n",
      "margherita\n",
      "bbq\n",
      "mushroom\n"
     ]
    }
   ],
   "source": [
    "pizza = ['cheese', 'margherita', 'bbq']\n",
    "for pizzas in pizza:\n",
    "    print(\"I love \"+pizzas)\n",
    "(\"I like cheese and bbq and margherita and cheese and bbq and \\n\" +\n",
    "\"cheese and bbq and margherita and cheese and bbq \\n\" +\n",
    "\"cheese and bbq and margherita and cheese and bbq pizza. I reaaly like pizza\")\n"
   ]
  },
  {
   "cell_type": "markdown",
   "id": "588aa73d",
   "metadata": {},
   "source": [
    "## 4.2"
   ]
  },
  {
   "cell_type": "code",
   "execution_count": 3,
   "id": "fd2355d2",
   "metadata": {},
   "outputs": [
    {
     "name": "stdout",
     "output_type": "stream",
     "text": [
      "dogs would make a great pet\n",
      "cats would make a great pet\n",
      "elephants would make a great pet\n",
      "These animals all have four legs\n"
     ]
    }
   ],
   "source": [
    "animals = ['dogs', 'cats', 'elephants']\n",
    "for animal in animals:\n",
    "    print(animal+\" would make a great pet\")\n",
    "print(\"These animals all have four legs\")\n",
    "    "
   ]
  },
  {
   "cell_type": "markdown",
   "id": "b14b07cd",
   "metadata": {},
   "source": [
    "## 4.3"
   ]
  },
  {
   "cell_type": "code",
   "execution_count": 4,
   "id": "823f4fc0",
   "metadata": {},
   "outputs": [
    {
     "name": "stdout",
     "output_type": "stream",
     "text": [
      "1\n",
      "2\n",
      "3\n",
      "4\n",
      "5\n",
      "6\n",
      "7\n",
      "8\n",
      "9\n",
      "10\n",
      "11\n",
      "12\n",
      "13\n",
      "14\n",
      "15\n",
      "16\n",
      "17\n",
      "18\n",
      "19\n",
      "20\n"
     ]
    }
   ],
   "source": [
    "for x in range(1,21):\n",
    "    print(x)"
   ]
  },
  {
   "cell_type": "markdown",
   "id": "e9cca766",
   "metadata": {},
   "source": [
    "## 4.6"
   ]
  },
  {
   "cell_type": "code",
   "execution_count": null,
   "id": "5a2c5a01",
   "metadata": {},
   "outputs": [],
   "source": [
    "for x in range(1,21,2):\n",
    "    print(x)"
   ]
  },
  {
   "cell_type": "markdown",
   "id": "53cdc692",
   "metadata": {},
   "source": [
    "## 4.10"
   ]
  },
  {
   "cell_type": "markdown",
   "id": "654e926e",
   "metadata": {},
   "source": [
    "### chapter 3, 3-4"
   ]
  },
  {
   "cell_type": "markdown",
   "id": "6f9fc567",
   "metadata": {},
   "source": [
    "## 4.11"
   ]
  },
  {
   "cell_type": "code",
   "execution_count": 5,
   "id": "b0684f72",
   "metadata": {},
   "outputs": [
    {
     "name": "stdout",
     "output_type": "stream",
     "text": [
      "My favorite pizzas are: \n",
      "cheese\n",
      "margherita\n",
      "bbq\n",
      "pineapple\n",
      "pineapple\n",
      "My friend's favorite pizzas are:\n",
      "cheese\n",
      "margherita\n",
      "bbq\n",
      "mushroom\n"
     ]
    }
   ],
   "source": [
    "friend_pizzas = ['cheese', 'margherita', 'bbq']\n",
    "pizza.append('pineapple')\n",
    "friend_pizzas.append('mushroom')\n",
    "print('My favorite pizzas are: ')\n",
    "for p in pizza:\n",
    "    print(p)\n",
    "\n",
    "print(\"My friend's favorite pizzas are:\")\n",
    "for a in friend_pizzas:\n",
    "    print(a)"
   ]
  }
 ],
 "metadata": {
  "kernelspec": {
   "display_name": "Python 3 (ipykernel)",
   "language": "python",
   "name": "python3"
  },
  "language_info": {
   "codemirror_mode": {
    "name": "ipython",
    "version": 3
   },
   "file_extension": ".py",
   "mimetype": "text/x-python",
   "name": "python",
   "nbconvert_exporter": "python",
   "pygments_lexer": "ipython3",
   "version": "3.9.7"
  }
 },
 "nbformat": 4,
 "nbformat_minor": 5
}
