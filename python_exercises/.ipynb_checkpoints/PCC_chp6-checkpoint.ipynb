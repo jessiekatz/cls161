{
 "cells": [
  {
   "cell_type": "markdown",
   "id": "786ac570",
   "metadata": {},
   "source": [
    "# Chapter 6 homework"
   ]
  },
  {
   "cell_type": "markdown",
   "id": "112a2b72",
   "metadata": {},
   "source": [
    "## 6-1"
   ]
  },
  {
   "cell_type": "code",
   "execution_count": 3,
   "id": "72aeebba",
   "metadata": {},
   "outputs": [
    {
     "name": "stdout",
     "output_type": "stream",
     "text": [
      "{'first_name': 'Rachel', 'last_name': 'Katz', 'age': 28, 'city': 'New York City'}\n"
     ]
    }
   ],
   "source": [
    "Rachel = {'first_name': 'Rachel', 'last_name': 'Katz', 'age': 28, 'city': 'New York City'}\n",
    "print(Rachel)"
   ]
  },
  {
   "cell_type": "markdown",
   "id": "4b3d5294",
   "metadata": {},
   "source": [
    "## 6-2"
   ]
  },
  {
   "cell_type": "code",
   "execution_count": 10,
   "id": "9380fc4e",
   "metadata": {},
   "outputs": [
    {
     "name": "stdout",
     "output_type": "stream",
     "text": [
      "Tina's favorite number is 18\n",
      "Rita's favorite number is 8\n",
      "Ro's favorite number is 9\n",
      "Mitch's favorite number is 8\n",
      "Ana's favorite number is 7\n"
     ]
    }
   ],
   "source": [
    "favNums = {\"Tina\": '18', \"Rita\": '8', \"Ro\": '9', \"Mitch\": '8', \"Ana\": '7'}\n",
    "for k, v in favNums.items():\n",
    "    print(k+\"'s favorite number is \"+v)"
   ]
  },
  {
   "cell_type": "markdown",
   "id": "ac37e372",
   "metadata": {},
   "source": [
    "## 6-3"
   ]
  },
  {
   "cell_type": "code",
   "execution_count": 17,
   "id": "ca66f0c7",
   "metadata": {},
   "outputs": [
    {
     "name": "stdout",
     "output_type": "stream",
     "text": [
      "for: begins a loop iterating through values\n",
      "\n",
      "print: outputs a statement\n",
      "\n",
      "string: a word or phrase in quotes\n",
      "\n",
      "int: short for integer\n",
      "\n",
      "boolean: a true or false value\n",
      "\n"
     ]
    }
   ],
   "source": [
    "keyWords = {\"for\": \"begins a loop iterating through values\", \"print\": \"outputs a statement\", \"string\": \"a word or phrase in quotes\", \"int\": \"short for integer\", \"boolean\": \"a true or false value\"}\n",
    "print(\"for: \"+keyWords[\"for\"]+\"\\n\")\n",
    "print(\"print: \"+keyWords[\"print\"]+\"\\n\")\n",
    "print(\"string: \"+keyWords[\"string\"]+\"\\n\")\n",
    "print(\"int: \"+keyWords[\"int\"]+\"\\n\")\n",
    "print(\"boolean: \"+keyWords[\"boolean\"]+\"\\n\")"
   ]
  },
  {
   "cell_type": "markdown",
   "id": "efb8123c",
   "metadata": {},
   "source": [
    "## 6-4"
   ]
  },
  {
   "cell_type": "code",
   "execution_count": null,
   "id": "7c4a4993",
   "metadata": {},
   "outputs": [],
   "source": [
    "for k, v in keyWords.items():\n",
    "    print(k+\":\\n\"+v)"
   ]
  },
  {
   "cell_type": "markdown",
   "id": "3272d207",
   "metadata": {},
   "source": [
    "## 6-5"
   ]
  },
  {
   "cell_type": "code",
   "execution_count": 21,
   "id": "a5b98dec",
   "metadata": {},
   "outputs": [
    {
     "name": "stdout",
     "output_type": "stream",
     "text": [
      "The Nile runs through Egypt\n",
      "The Huang runs through China\n",
      "The Mississippi runs through Usa\n",
      "nile\n",
      "huang\n",
      "mississippi\n",
      "egypt\n",
      "china\n",
      "usa\n"
     ]
    }
   ],
   "source": [
    "rivers = {'nile': 'egypt', 'huang': 'china', 'mississippi': 'usa'}\n",
    "for k, v in rivers.items():\n",
    "    print(\"The \"+k.title()+\" runs through \"+v.title())\n",
    "\n",
    "for k in rivers.keys():\n",
    "    print(k)\n",
    "    \n",
    "for v in rivers.values():\n",
    "    print(v)"
   ]
  },
  {
   "cell_type": "markdown",
   "id": "57676b31",
   "metadata": {},
   "source": [
    "## 6-6"
   ]
  },
  {
   "cell_type": "code",
   "execution_count": 3,
   "id": "1ab101f5",
   "metadata": {},
   "outputs": [
    {
     "name": "stdout",
     "output_type": "stream",
     "text": [
      "You are invited to take this poll\n",
      "You are invited to take this poll\n",
      "Thank you for responding\n",
      "You are invited to take this poll\n",
      "Thank you for responding\n"
     ]
    }
   ],
   "source": [
    "favorite_languages = {\n",
    "    'jen': 'python',\n",
    "    'sarah': 'c',\n",
    "    'edward': 'ruby',\n",
    "    'phil': 'python',\n",
    "    }\n",
    "\n",
    "take_survey = [\"johnny\", \"matt\", \"sarah\", \"ro\", \"phil\"]\n",
    "\n",
    "for name in take_survey:\n",
    "    if name in favorite_languages.keys():\n",
    "        print(\"Thank you for responding\")\n",
    "    else:\n",
    "        print(\"You are invited to take this poll\")"
   ]
  },
  {
   "cell_type": "markdown",
   "id": "d8633a06",
   "metadata": {},
   "source": [
    "## 6-7"
   ]
  },
  {
   "cell_type": "code",
   "execution_count": 9,
   "id": "d0409fd5",
   "metadata": {},
   "outputs": [
    {
     "name": "stdout",
     "output_type": "stream",
     "text": [
      "Rachel Katz 28 New York City\n",
      "Sarah Jun 20 New York City\n",
      "Kitty Vu 20 San Francisco\n"
     ]
    }
   ],
   "source": [
    "Rachel = {'first_name': 'Rachel', 'last_name': 'Katz', 'age': '28', 'city': 'New York City'}\n",
    "Sarah = {'first_name': 'Sarah', 'last_name': 'Jun', 'age': '20', 'city': 'New York City'}\n",
    "Kitty = {'first_name': 'Kitty', 'last_name': 'Vu', 'age': '20', 'city': 'San Francisco'}\n",
    "People = [Rachel, Sarah, Kitty]\n",
    "for person in People:\n",
    "    print(person['first_name'], person['last_name'], person['age'], person['city'])"
   ]
  },
  {
   "cell_type": "markdown",
   "id": "6f2fad5f",
   "metadata": {},
   "source": [
    "## 6-8"
   ]
  },
  {
   "cell_type": "code",
   "execution_count": 11,
   "id": "94664f6d",
   "metadata": {},
   "outputs": [
    {
     "name": "stdout",
     "output_type": "stream",
     "text": [
      "matt owns a pet cat\n",
      "emily owns a pet dog\n",
      "sarah owns a pet cat\n"
     ]
    }
   ],
   "source": [
    "pets = [{'animal': 'cat', 'owner': 'matt'}, {'animal': 'dog', 'owner': 'emily'}, {'animal': 'cat', 'owner': 'sarah'}]\n",
    "for pet in pets:\n",
    "    print(pet['owner']+\" owns a pet \"+pet['animal'])"
   ]
  },
  {
   "cell_type": "markdown",
   "id": "9b3696a2",
   "metadata": {},
   "source": [
    "## 6-9"
   ]
  },
  {
   "cell_type": "code",
   "execution_count": 13,
   "id": "fe453f9f",
   "metadata": {},
   "outputs": [
    {
     "name": "stdout",
     "output_type": "stream",
     "text": [
      "emily's favorite place(s): assembly row\n",
      "sarah's favorite place(s): soho, flushing, library\n",
      "julia's favorite place(s): home, flushing\n"
     ]
    }
   ],
   "source": [
    "favorite_places = {'emily': 'assembly row', 'sarah': 'soho, flushing, library', 'julia': 'home, flushing'}\n",
    "for name, place in favorite_places.items():\n",
    "    print(name+\"'s favorite place(s): \"+place)"
   ]
  },
  {
   "cell_type": "markdown",
   "id": "24c07930",
   "metadata": {},
   "source": [
    "## 6-11"
   ]
  },
  {
   "cell_type": "code",
   "execution_count": 21,
   "id": "9efecb91",
   "metadata": {},
   "outputs": [
    {
     "name": "stdout",
     "output_type": "stream",
     "text": [
      "\n",
      "City: New York City Population: 7,888,121 Fact: NYC has one of the biggest metro systems in the world\n",
      "\n",
      "City: Taipei Population: 2,494,813 Fact: Taipei is home to the 5th tallest building in the world\n",
      "\n",
      "City: Cairo Population: 22,183,000 Fact: Cairo has four months of winter, eight months of summer\n"
     ]
    }
   ],
   "source": [
    "cities = {\n",
    "    \"New York City\": {\"country\": \"USA\",\n",
    "                     \"population\": \"7,888,121\",\n",
    "                     \"fact\": \"NYC has one of the biggest metro systems in the world\"},\n",
    "    \"Taipei\": {\"country\": \"Taiwan\",\n",
    "              \"population\": \"2,494,813\",\n",
    "              \"fact\": \"Taipei is home to the 5th tallest building in the world\"},\n",
    "    \"Cairo\": {\"country\": \"Egypt\",\n",
    "             \"population\": \"22,183,000\",\n",
    "             \"fact\": \"Cairo has four months of winter, eight months of summer\"}\n",
    "}\n",
    "\n",
    "for city, info in cities.items():\n",
    "    print(f\"\\nCity: {city}\"+\" Population: \"+info['population']+\" Fact: \"+info['fact'])"
   ]
  }
 ],
 "metadata": {
  "kernelspec": {
   "display_name": "Python 3 (ipykernel)",
   "language": "python",
   "name": "python3"
  },
  "language_info": {
   "codemirror_mode": {
    "name": "ipython",
    "version": 3
   },
   "file_extension": ".py",
   "mimetype": "text/x-python",
   "name": "python",
   "nbconvert_exporter": "python",
   "pygments_lexer": "ipython3",
   "version": "3.9.7"
  }
 },
 "nbformat": 4,
 "nbformat_minor": 5
}
