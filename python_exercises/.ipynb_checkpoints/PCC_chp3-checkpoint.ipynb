{
 "cells": [
  {
   "cell_type": "markdown",
   "id": "4413ba7a",
   "metadata": {},
   "source": [
    "# Chapter 3 Homework"
   ]
  },
  {
   "cell_type": "markdown",
   "id": "7765a9c3",
   "metadata": {},
   "source": [
    "## 3-1"
   ]
  },
  {
   "cell_type": "code",
   "execution_count": 21,
   "id": "8f7b8079",
   "metadata": {},
   "outputs": [
    {
     "name": "stdout",
     "output_type": "stream",
     "text": [
      "Tina\n",
      "Rita\n",
      "Rachel\n"
     ]
    }
   ],
   "source": [
    "nameList = ['Tseten', 'Rita', 'Rachel']\n",
    "print(nameList[0])\n",
    "print(nameList[1])\n",
    "print(nameList[2])"
   ]
  },
  {
   "cell_type": "markdown",
   "id": "d795b864",
   "metadata": {},
   "source": [
    "## 3-2"
   ]
  },
  {
   "cell_type": "code",
   "execution_count": 24,
   "id": "99ce4c71",
   "metadata": {},
   "outputs": [
    {
     "name": "stdout",
     "output_type": "stream",
     "text": [
      "Tina, where's my phone\n",
      "Rita, where's my phone\n",
      "Rachel, where's my phone\n"
     ]
    }
   ],
   "source": [
    "print(nameList[0]+\", where's my phone\")\n",
    "print(nameList[1]+\", where's my phone\")\n",
    "print(nameList[2]+\", where's my phone\")"
   ]
  },
  {
   "cell_type": "markdown",
   "id": "07ff7096",
   "metadata": {},
   "source": [
    "## 3-3 "
   ]
  },
  {
   "cell_type": "code",
   "execution_count": 2,
   "id": "49f3ee35",
   "metadata": {},
   "outputs": [
    {
     "name": "stdout",
     "output_type": "stream",
     "text": [
      "I used to ride a rusty bike when I was a kid.\n",
      "Now, I drive a Toyota car.\n"
     ]
    }
   ],
   "source": [
    "transportMode = ['bike', 'train', 'car']\n",
    "print(\"I used to ride a rusty \"+transportMode[0]+\" when I was a kid.\")\n",
    "print(\"Now, I drive a Toyota \"+transportMode[2]+\".\")"
   ]
  },
  {
   "cell_type": "markdown",
   "id": "ac6d9dde",
   "metadata": {},
   "source": [
    "## 3-4"
   ]
  },
  {
   "cell_type": "code",
   "execution_count": 3,
   "id": "194ec530",
   "metadata": {
    "scrolled": true
   },
   "outputs": [
    {
     "name": "stdout",
     "output_type": "stream",
     "text": [
      "Greetings Plato, you are invited to my dinner party. Congrats.\n",
      "Greetings Donald Trump, you are invited to my dinner party. Congrats.\n",
      "Greetings Jesus, you are invited to my dinner party. Congrats.\n",
      "Greetings Cleopatra, you are invited to my dinner party. Congrats.\n",
      "Greetings Whoopi Goldberg, you are invited to my dinner party. Congrats.\n",
      "\n",
      "The first three items in the list are:\n",
      "Plato\n",
      "Donald Trump\n",
      "Jesus\n",
      "The middle three items in the list are:\n",
      "Whoopi Goldberg\n",
      "The last three items in the list are:\n"
     ]
    }
   ],
   "source": [
    "VIP = ['Plato', 'Donald Trump', 'Jesus', 'Cleopatra', 'Whoopi Goldberg']\n",
    "print('Greetings '+VIP[0]+', you are invited to my dinner party. Congrats.')\n",
    "print('Greetings '+VIP[1]+', you are invited to my dinner party. Congrats.')\n",
    "print('Greetings '+VIP[2]+', you are invited to my dinner party. Congrats.')\n",
    "print('Greetings '+VIP[3]+', you are invited to my dinner party. Congrats.')\n",
    "print('Greetings '+VIP[4]+', you are invited to my dinner party. Congrats.\\n')\n",
    "\n",
    "\n",
    "\n",
    "\n",
    "#4-10\n",
    "print(\"The first three items in the list are:\")\n",
    "for vips in VIP[:3]:\n",
    "    print(vips)\n",
    "\n",
    "print(\"The middle three items in the list are:\")\n",
    "for vips in VIP[4:7]:\n",
    "    print(vips)\n",
    "    \n",
    "print(\"The last three items in the list are:\")\n",
    "for vips in VIP[5:8]:\n",
    "    print(vips)"
   ]
  },
  {
   "cell_type": "markdown",
   "id": "cd640007",
   "metadata": {},
   "source": [
    "## 3-5"
   ]
  },
  {
   "cell_type": "code",
   "execution_count": 4,
   "id": "96c01195",
   "metadata": {},
   "outputs": [
    {
     "name": "stdout",
     "output_type": "stream",
     "text": [
      "Unfortunately, Plato and Whoopi Goldberg cannot make it.\n",
      "\n",
      "Greetings JFK, you are invited to my dinner party. Congrats.\n",
      "Greetings Donald Trump, you are invited to my dinner party. Congrats.\n",
      "Greetings Jesus, you are invited to my dinner party. Congrats.\n",
      "Greetings Cleopatra, you are invited to my dinner party. Congrats.\n",
      "Greetings Marilyn Monroe, you are invited to my dinner party. Congrats.\n",
      "\n"
     ]
    }
   ],
   "source": [
    "print('Unfortunately, '+VIP[0]+\" and \"+VIP[4]+\" cannot make it.\\n\")\n",
    "\n",
    "del VIP[0]\n",
    "VIP.insert(0, 'JFK')\n",
    "del VIP[4]\n",
    "VIP.insert(4, 'Marilyn Monroe')\n",
    "print('Greetings '+VIP[0]+', you are invited to my dinner party. Congrats.')\n",
    "print('Greetings '+VIP[1]+', you are invited to my dinner party. Congrats.')\n",
    "print('Greetings '+VIP[2]+', you are invited to my dinner party. Congrats.')\n",
    "print('Greetings '+VIP[3]+', you are invited to my dinner party. Congrats.')\n",
    "print('Greetings '+VIP[4]+', you are invited to my dinner party. Congrats.\\n')\n"
   ]
  },
  {
   "cell_type": "markdown",
   "id": "fb9b7297",
   "metadata": {},
   "source": [
    "## 3-6"
   ]
  },
  {
   "cell_type": "code",
   "execution_count": 5,
   "id": "82702f73",
   "metadata": {},
   "outputs": [
    {
     "name": "stdout",
     "output_type": "stream",
     "text": [
      "Wait, I found a bigger table.\n",
      "\n",
      "Greetings Queen Elizabeth, you are invited to my dinner party. Congrats.\n",
      "Greetings JFK, you are invited to my dinner party. Congrats.\n",
      "Greetings Donald Trump, you are invited to my dinner party. Congrats.\n",
      "Greetings Jesus, you are invited to my dinner party. Congrats.\n",
      "Greetings Confucius, you are invited to my dinner party. Congrats.\n",
      "Greetings Cleopatra, you are invited to my dinner party. Congrats.\n",
      "Greetings Marilyn Monroe, you are invited to my dinner party. Congrats.\n",
      "Greetings Malala, you are invited to my dinner party. Congrats.\n",
      "\n"
     ]
    }
   ],
   "source": [
    "print('Wait, I found a bigger table.\\n')\n",
    "\n",
    "VIP.insert(0, 'Queen Elizabeth')\n",
    "VIP.insert(4, 'Confucius')\n",
    "VIP.append('Malala')\n",
    "print('Greetings '+VIP[0]+', you are invited to my dinner party. Congrats.')\n",
    "print('Greetings '+VIP[1]+', you are invited to my dinner party. Congrats.')\n",
    "print('Greetings '+VIP[2]+', you are invited to my dinner party. Congrats.')\n",
    "print('Greetings '+VIP[3]+', you are invited to my dinner party. Congrats.')\n",
    "print('Greetings '+VIP[4]+', you are invited to my dinner party. Congrats.')\n",
    "print('Greetings '+VIP[5]+', you are invited to my dinner party. Congrats.')\n",
    "print('Greetings '+VIP[6]+', you are invited to my dinner party. Congrats.')\n",
    "print('Greetings '+VIP[7]+', you are invited to my dinner party. Congrats.\\n')"
   ]
  },
  {
   "cell_type": "markdown",
   "id": "b8ed284d",
   "metadata": {},
   "source": [
    "## 3-7"
   ]
  },
  {
   "cell_type": "code",
   "execution_count": 6,
   "id": "714e43fe",
   "metadata": {
    "scrolled": true
   },
   "outputs": [
    {
     "name": "stdout",
     "output_type": "stream",
     "text": [
      "Sorry, the table isn't coming..\n",
      "\n",
      "Malala, your invite has been revoked.\n",
      "Marilyn Monroe, your invite has been revoked.\n",
      "Cleopatra, your invite has been revoked.\n",
      "Confucius, your invite has been revoked.\n",
      "Jesus, your invite has been revoked.\n",
      "Donald Trump, your invite has been revoked.\n",
      "\n",
      "JFK, you are still invited.\n",
      "Queen Elizabeth, you are still invited.\n",
      "[]\n"
     ]
    }
   ],
   "source": [
    "print(\"Sorry, the table isn't coming..\\n\")\n",
    "\n",
    "print(VIP[7]+\", your invite has been revoked.\")\n",
    "VIP.pop()\n",
    "print(VIP[6]+\", your invite has been revoked.\")\n",
    "VIP.pop()\n",
    "print(VIP[5]+\", your invite has been revoked.\")\n",
    "VIP.pop()\n",
    "print(VIP[4]+\", your invite has been revoked.\")\n",
    "VIP.pop()\n",
    "print(VIP[3]+\", your invite has been revoked.\")\n",
    "VIP.pop()\n",
    "print(VIP[2]+\", your invite has been revoked.\\n\")\n",
    "VIP.pop()\n",
    "\n",
    "print(VIP[1]+\", you are still invited.\")\n",
    "print(VIP[0]+\", you are still invited.\")\n",
    "del VIP[1]\n",
    "del VIP[0]\n",
    "print(VIP)"
   ]
  },
  {
   "cell_type": "markdown",
   "id": "6a23b9aa",
   "metadata": {},
   "source": [
    "## 3-8"
   ]
  },
  {
   "cell_type": "code",
   "execution_count": 27,
   "id": "a720ea31",
   "metadata": {},
   "outputs": [
    {
     "name": "stdout",
     "output_type": "stream",
     "text": [
      "['italy', 'japan', 'greece', 'antarctica', 'brazil']\n",
      "['antarctica', 'brazil', 'greece', 'italy', 'japan']\n",
      "['italy', 'japan', 'greece', 'antarctica', 'brazil']\n",
      "['japan', 'italy', 'greece', 'brazil', 'antarctica']\n",
      "['italy', 'japan', 'greece', 'antarctica', 'brazil']\n",
      "['brazil', 'antarctica', 'greece', 'japan', 'italy']\n",
      "['italy', 'japan', 'greece', 'antarctica', 'brazil']\n",
      "['antarctica', 'brazil', 'greece', 'italy', 'japan']\n",
      "['japan', 'italy', 'greece', 'brazil', 'antarctica']\n",
      "The first three items in the lsit are:\n",
      "japan\n",
      "italy\n",
      "greece\n"
     ]
    }
   ],
   "source": [
    "places = ['italy', 'japan', 'greece', 'antarctica', 'brazil']\n",
    "print(places)\n",
    "print(sorted(places))\n",
    "print(places)\n",
    "print(sorted(places, reverse=True))\n",
    "print(places)\n",
    "places.reverse()\n",
    "print(places)\n",
    "places.reverse()\n",
    "print(places)\n",
    "places.sort()\n",
    "print(places)\n",
    "places.sort(reverse=True)\n",
    "print(places)\n"
   ]
  },
  {
   "cell_type": "code",
   "execution_count": 38,
   "id": "e09fbd86",
   "metadata": {},
   "outputs": [
    {
     "name": "stdout",
     "output_type": "stream",
     "text": [
      "I love cheese\n",
      "I love margherita\n",
      "I love bbq\n",
      "My favorite pizzas are: \n",
      "cheese\n",
      "margherita\n",
      "bbq\n",
      "pineapple\n",
      "My friend's favorite pizzas are:\n",
      "cheese\n",
      "margherita\n",
      "bbq\n",
      "mushroom\n"
     ]
    }
   ],
   "source": []
  },
  {
   "cell_type": "code",
   "execution_count": 21,
   "id": "a152fa04",
   "metadata": {},
   "outputs": [
    {
     "name": "stdout",
     "output_type": "stream",
     "text": [
      "dogs would make a great pet\n",
      "cats would make a great pet\n",
      "elephants would make a great pet\n",
      "These animals all have four legs\n"
     ]
    }
   ],
   "source": []
  },
  {
   "cell_type": "code",
   "execution_count": 24,
   "id": "dda38a8c",
   "metadata": {},
   "outputs": [
    {
     "name": "stdout",
     "output_type": "stream",
     "text": [
      "1\n",
      "3\n",
      "5\n",
      "7\n",
      "9\n",
      "11\n",
      "13\n",
      "15\n",
      "17\n",
      "19\n"
     ]
    }
   ],
   "source": []
  },
  {
   "cell_type": "code",
   "execution_count": 25,
   "id": "eed6dc12",
   "metadata": {},
   "outputs": [
    {
     "name": "stdout",
     "output_type": "stream",
     "text": [
      "1\n",
      "3\n",
      "5\n",
      "7\n",
      "9\n",
      "11\n",
      "13\n",
      "15\n",
      "17\n",
      "19\n"
     ]
    }
   ],
   "source": []
  },
  {
   "cell_type": "code",
   "execution_count": null,
   "id": "6c9b637f",
   "metadata": {},
   "outputs": [],
   "source": []
  }
 ],
 "metadata": {
  "kernelspec": {
   "display_name": "Python 3 (ipykernel)",
   "language": "python",
   "name": "python3"
  },
  "language_info": {
   "codemirror_mode": {
    "name": "ipython",
    "version": 3
   },
   "file_extension": ".py",
   "mimetype": "text/x-python",
   "name": "python",
   "nbconvert_exporter": "python",
   "pygments_lexer": "ipython3",
   "version": "3.9.7"
  }
 },
 "nbformat": 4,
 "nbformat_minor": 5
}
