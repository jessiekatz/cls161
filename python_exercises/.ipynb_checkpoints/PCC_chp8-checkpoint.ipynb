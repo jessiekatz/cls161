{
 "cells": [
  {
   "cell_type": "markdown",
   "id": "4aaa6b48",
   "metadata": {},
   "source": [
    "# Chapter 8 homework"
   ]
  },
  {
   "cell_type": "markdown",
   "id": "4a18923e",
   "metadata": {},
   "source": [
    "## 8-1"
   ]
  },
  {
   "cell_type": "code",
   "execution_count": 1,
   "id": "08a3b15d",
   "metadata": {},
   "outputs": [],
   "source": [
    "def display_message():\n",
    "    print(\"we are learning about functions\")"
   ]
  },
  {
   "cell_type": "code",
   "execution_count": 2,
   "id": "27b97574",
   "metadata": {},
   "outputs": [
    {
     "name": "stdout",
     "output_type": "stream",
     "text": [
      "we are learning about functions\n"
     ]
    }
   ],
   "source": [
    "display_message()"
   ]
  },
  {
   "cell_type": "markdown",
   "id": "b11bb316",
   "metadata": {},
   "source": [
    "## 8-2"
   ]
  },
  {
   "cell_type": "code",
   "execution_count": 3,
   "id": "1b4baa72",
   "metadata": {},
   "outputs": [],
   "source": [
    "def favorite_book(title):\n",
    "    print(f\"One of my favorite books is {title}\")"
   ]
  },
  {
   "cell_type": "code",
   "execution_count": 4,
   "id": "0fbb0c32",
   "metadata": {},
   "outputs": [
    {
     "name": "stdout",
     "output_type": "stream",
     "text": [
      "One of my favorite books is Alice in Wonderland\n"
     ]
    }
   ],
   "source": [
    "favorite_book(\"Alice in Wonderland\")"
   ]
  },
  {
   "cell_type": "markdown",
   "id": "54802afc",
   "metadata": {},
   "source": [
    "## 8-3"
   ]
  },
  {
   "cell_type": "code",
   "execution_count": 6,
   "id": "a0f92337",
   "metadata": {},
   "outputs": [],
   "source": [
    "def make_shirt(size, txt):\n",
    "    print(f\"The shirt is a size {size} and says {txt}\")"
   ]
  },
  {
   "cell_type": "code",
   "execution_count": 7,
   "id": "05100d01",
   "metadata": {},
   "outputs": [
    {
     "name": "stdout",
     "output_type": "stream",
     "text": [
      "The shirt is a size M and says Hello, World\n"
     ]
    }
   ],
   "source": [
    "make_shirt(size = \"M\", txt = \"Hello, World\") #keyword"
   ]
  },
  {
   "cell_type": "code",
   "execution_count": 8,
   "id": "d5bce88d",
   "metadata": {},
   "outputs": [
    {
     "name": "stdout",
     "output_type": "stream",
     "text": [
      "The shirt is a size S and says Goodbye, World\n"
     ]
    }
   ],
   "source": [
    "make_shirt(\"S\", \"Goodbye, World\") #positional"
   ]
  },
  {
   "cell_type": "markdown",
   "id": "c668cd70",
   "metadata": {},
   "source": [
    "## 8-5"
   ]
  },
  {
   "cell_type": "code",
   "execution_count": 10,
   "id": "5b96b92c",
   "metadata": {},
   "outputs": [],
   "source": [
    "def describe_city(city, country = \"Taiwan\"):\n",
    "    print(f\"{city} is in {country}.\")"
   ]
  },
  {
   "cell_type": "code",
   "execution_count": 13,
   "id": "897f2f60",
   "metadata": {},
   "outputs": [
    {
     "name": "stdout",
     "output_type": "stream",
     "text": [
      "Taipei is in Taiwan.\n",
      "Kaohsiung is in Taiwan.\n",
      "Bamako is in Mali.\n"
     ]
    }
   ],
   "source": [
    "describe_city(\"Taipei\")\n",
    "describe_city(\"Kaohsiung\")\n",
    "describe_city(\"Bamako\", \"Mali\")"
   ]
  },
  {
   "cell_type": "markdown",
   "id": "1bc5da51",
   "metadata": {},
   "source": [
    "## 8-6"
   ]
  },
  {
   "cell_type": "code",
   "execution_count": 14,
   "id": "5bc15b97",
   "metadata": {},
   "outputs": [],
   "source": [
    "def city_country(pair):\n",
    "    str = f\"{pair[0]}, {pair[1]}\"\n",
    "    return str"
   ]
  },
  {
   "cell_type": "code",
   "execution_count": 17,
   "id": "73cd0eb5",
   "metadata": {},
   "outputs": [
    {
     "name": "stdout",
     "output_type": "stream",
     "text": [
      "Santiago, Chile\n",
      "Paris, France\n",
      "London, England\n"
     ]
    }
   ],
   "source": [
    "str1 = city_country((\"Santiago\", \"Chile\"))\n",
    "print(str1)\n",
    "str2 = city_country((\"Paris\", \"France\"))\n",
    "print(str2)\n",
    "str3 = city_country((\"London\", \"England\"))\n",
    "print(str3)"
   ]
  },
  {
   "cell_type": "markdown",
   "id": "6f50ab6e",
   "metadata": {},
   "source": [
    "## 8-7"
   ]
  },
  {
   "cell_type": "code",
   "execution_count": 20,
   "id": "8eff6711",
   "metadata": {},
   "outputs": [],
   "source": [
    "def make_album(artist, albumTitle):\n",
    "    album = {'Artist': artist, 'Title': albumTitle}\n",
    "    return album"
   ]
  },
  {
   "cell_type": "code",
   "execution_count": 23,
   "id": "67bf773f",
   "metadata": {},
   "outputs": [
    {
     "name": "stdout",
     "output_type": "stream",
     "text": [
      "Doja Cat\n",
      "Disclosure\n",
      "Sza\n"
     ]
    }
   ],
   "source": [
    "alb1 = make_album(\"Doja Cat\", \"Hot Pink\")\n",
    "print(alb1['Artist'])\n",
    "alb2 = make_album(\"Disclosure\", \"Alchemy\")\n",
    "print(alb2['Artist'])\n",
    "alb3 = make_album(\"Sza\", \"Good Days\")\n",
    "print(alb3['Artist'])"
   ]
  },
  {
   "cell_type": "code",
   "execution_count": 33,
   "id": "8ef9ffa0",
   "metadata": {},
   "outputs": [],
   "source": [
    "def make_album2(artist, albumTitle, numSongs = None):\n",
    "    album = {'Artist': artist, 'Title': albumTitle}\n",
    "    if numSongs:\n",
    "        album['num_of_songs'] = numSongs\n",
    "    return album"
   ]
  },
  {
   "cell_type": "code",
   "execution_count": 34,
   "id": "8784ed4d",
   "metadata": {},
   "outputs": [
    {
     "name": "stdout",
     "output_type": "stream",
     "text": [
      "Kali Uchis\n",
      "18\n"
     ]
    }
   ],
   "source": [
    "alb4 = make_album2(\"Kali Uchis\", \"Por Vida\")\n",
    "print(alb4['Artist'])\n",
    "alb5 = make_album2(\"Joji\", \"Nectar\", \"18\")\n",
    "print(alb5['num_of_songs'])"
   ]
  }
 ],
 "metadata": {
  "kernelspec": {
   "display_name": "Python 3 (ipykernel)",
   "language": "python",
   "name": "python3"
  },
  "language_info": {
   "codemirror_mode": {
    "name": "ipython",
    "version": 3
   },
   "file_extension": ".py",
   "mimetype": "text/x-python",
   "name": "python",
   "nbconvert_exporter": "python",
   "pygments_lexer": "ipython3",
   "version": "3.9.7"
  }
 },
 "nbformat": 4,
 "nbformat_minor": 5
}
