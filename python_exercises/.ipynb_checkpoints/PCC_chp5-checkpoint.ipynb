{
 "cells": [
  {
   "cell_type": "markdown",
   "id": "7ed50a4b",
   "metadata": {},
   "source": [
    "# Chapter 5 Homework"
   ]
  },
  {
   "cell_type": "markdown",
   "id": "807924ae",
   "metadata": {},
   "source": [
    "## 5-1"
   ]
  },
  {
   "cell_type": "code",
   "execution_count": 3,
   "id": "a2fe0dca",
   "metadata": {},
   "outputs": [
    {
     "name": "stdout",
     "output_type": "stream",
     "text": [
      "Is food == 'ice cream'? True\n",
      "True\n",
      "Is food == 'pizza'? False\n",
      "False\n"
     ]
    }
   ],
   "source": [
    "food = \"ice cream\"\n",
    "print(\"Is food == 'ice cream'? True\")\n",
    "print(food=='ice cream')\n",
    "print(\"Is food == 'pizza'? False\")\n",
    "print(food=='pizza')"
   ]
  },
  {
   "cell_type": "markdown",
   "id": "c00928b9",
   "metadata": {},
   "source": [
    "## 5-2"
   ]
  },
  {
   "cell_type": "code",
   "execution_count": 16,
   "id": "7331a8fe",
   "metadata": {},
   "outputs": [
    {
     "name": "stdout",
     "output_type": "stream",
     "text": [
      "True\n",
      "True\n",
      "False\n",
      "True\n",
      "False\n",
      "True\n",
      "True\n",
      "False\n"
     ]
    }
   ],
   "source": [
    "print(\"ice cream\"==food)\n",
    "string = \"SALAD\"\n",
    "print(\"salad\"==string.lower())\n",
    "\n",
    "print(3 > 4)\n",
    "print((8==7+1) and (10<=10))\n",
    "print(((5>7) or (string==\"salad\")) and (6>=4))\n",
    "print(-4<-2)\n",
    "\n",
    "list=[1, 2, 29]\n",
    "print(1 in list)\n",
    "print(4 in list)"
   ]
  },
  {
   "cell_type": "markdown",
   "id": "d93cdb15",
   "metadata": {},
   "source": [
    "## 5-6"
   ]
  },
  {
   "cell_type": "code",
   "execution_count": 17,
   "id": "c9a97fe6",
   "metadata": {},
   "outputs": [
    {
     "name": "stdout",
     "output_type": "stream",
     "text": [
      "you are a teenager\n"
     ]
    }
   ],
   "source": [
    "age = 19\n",
    "if age < 2:\n",
    "    print(\"you are a baby\")\n",
    "elif (age >= 2) and (age < 4):\n",
    "    print(\"you are a toddler\")\n",
    "elif (age >= 4) and (age < 13):\n",
    "    print(\"you are a kid\")\n",
    "elif (age >= 13) and (age < 20):\n",
    "    print(\"you are a teenager\")\n",
    "elif (age >= 20) and (age < 65):\n",
    "    print(\"you are an adult\")\n",
    "else:\n",
    "    print(\"you are an elder\")"
   ]
  },
  {
   "cell_type": "markdown",
   "id": "d865f540",
   "metadata": {},
   "source": [
    "## 5-7"
   ]
  },
  {
   "cell_type": "code",
   "execution_count": 19,
   "id": "ff2bfc46",
   "metadata": {},
   "outputs": [
    {
     "name": "stdout",
     "output_type": "stream",
     "text": [
      "you really like blackberries!\n",
      "you really like mangoes!\n"
     ]
    }
   ],
   "source": [
    "favorite_fruits = [\"blackberries\", \"mango\", \"kiwi\"]\n",
    "if \"blackberries\" in favorite_fruits:\n",
    "    print(\"you really like blackberries!\")\n",
    "if \"bananas\" in favorite_fruits:\n",
    "    print(\"you do not like bananas\")\n",
    "if \"papaya\" in favorite_fruits:\n",
    "    print(\"you do not like papayas\")\n",
    "if \"watermelon\" in favorite_fruits:\n",
    "    print(\"you do not like watermelon\")\n",
    "if \"mango\" in favorite_fruits:\n",
    "    print(\"you really like mangoes!\")"
   ]
  },
  {
   "cell_type": "markdown",
   "id": "94ed06e9",
   "metadata": {},
   "source": [
    "## 5-8 "
   ]
  },
  {
   "cell_type": "code",
   "execution_count": 4,
   "id": "0157ef44",
   "metadata": {},
   "outputs": [
    {
     "name": "stdout",
     "output_type": "stream",
     "text": [
      "Hello Lisa, thank you for logging in again\n",
      "Hello Harold, thank you for logging in again\n",
      "Hello admin, would you like to see a status report?\n",
      "Hello Jessie, thank you for logging in again\n",
      "Hello Bianca, thank you for logging in again\n"
     ]
    }
   ],
   "source": [
    "names = [\"Lisa\", \"Harold\", \"admin\", \"Jessie\", \"Bianca\"]\n",
    "for name in names:\n",
    "    if name == \"admin\":\n",
    "        print(\"Hello \" + name + \", would you like to see a status report?\")\n",
    "    else:\n",
    "        print(\"Hello \"+ name + \", thank you for logging in again\")"
   ]
  },
  {
   "cell_type": "markdown",
   "id": "540af4a7",
   "metadata": {},
   "source": [
    "## 5-9"
   ]
  },
  {
   "cell_type": "code",
   "execution_count": 6,
   "id": "bf6fe60f",
   "metadata": {},
   "outputs": [
    {
     "name": "stdout",
     "output_type": "stream",
     "text": [
      "We need to find some users!\n"
     ]
    }
   ],
   "source": [
    "names.clear()\n",
    "if not names:\n",
    "    print(\"We need to find some users!\")"
   ]
  },
  {
   "cell_type": "markdown",
   "id": "8186c76a",
   "metadata": {},
   "source": [
    "## 5-10"
   ]
  },
  {
   "cell_type": "code",
   "execution_count": 7,
   "id": "429ddd16",
   "metadata": {},
   "outputs": [
    {
     "name": "stdout",
     "output_type": "stream",
     "text": [
      "Please enter a new username\n",
      "Please enter a new username\n",
      "This username is available\n",
      "This username is available\n",
      "This username is available\n",
      "This username is available\n"
     ]
    }
   ],
   "source": [
    "current_users = [\"Tom\", \"Alicia\", \"Gerri\", \"Shiv\", \"Erin\"]\n",
    "current_users_lower = [\"tom\", \"alicia\", \"gerri\", \"shiv\", \"erin\"]\n",
    "new_users = [\"Alicia\", \"Bill\", \"Soraya\", \"Shin\", \"Kim\"]\n",
    "for names in new_users:\n",
    "    if names in current_users:\n",
    "        print(\"Please enter a new username\")\n",
    "    if names.lower() in current_users_lower:\n",
    "        print(\"Please enter a new username\")\n",
    "    else:\n",
    "        print(\"This username is available\")"
   ]
  }
 ],
 "metadata": {
  "kernelspec": {
   "display_name": "Python 3 (ipykernel)",
   "language": "python",
   "name": "python3"
  },
  "language_info": {
   "codemirror_mode": {
    "name": "ipython",
    "version": 3
   },
   "file_extension": ".py",
   "mimetype": "text/x-python",
   "name": "python",
   "nbconvert_exporter": "python",
   "pygments_lexer": "ipython3",
   "version": "3.9.7"
  }
 },
 "nbformat": 4,
 "nbformat_minor": 5
}
