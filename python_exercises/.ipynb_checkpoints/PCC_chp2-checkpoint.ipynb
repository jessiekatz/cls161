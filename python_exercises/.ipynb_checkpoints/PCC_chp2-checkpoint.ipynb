{
 "cells": [
  {
   "cell_type": "markdown",
   "id": "b6001c71",
   "metadata": {},
   "source": [
    "# Chapter 2 Homework"
   ]
  },
  {
   "cell_type": "markdown",
   "id": "7c56a8c9",
   "metadata": {},
   "source": [
    "## 2-1"
   ]
  },
  {
   "cell_type": "code",
   "execution_count": 1,
   "id": "c9d371ce",
   "metadata": {},
   "outputs": [
    {
     "name": "stdout",
     "output_type": "stream",
     "text": [
      "hello, world!\n"
     ]
    }
   ],
   "source": [
    "sentence = \"hello, world!\"\n",
    "print(sentence)"
   ]
  },
  {
   "cell_type": "markdown",
   "id": "9d4dc8d6",
   "metadata": {},
   "source": [
    "## 2-2"
   ]
  },
  {
   "cell_type": "code",
   "execution_count": 2,
   "id": "16650285",
   "metadata": {},
   "outputs": [
    {
     "name": "stdout",
     "output_type": "stream",
     "text": [
      "does this work\n"
     ]
    }
   ],
   "source": [
    "msg = \"does this work\"\n",
    "print(msg)\n",
    "msg = \"yes\"\n",
    "print(msg)"
   ]
  },
  {
   "cell_type": "markdown",
   "id": "b4d75e02",
   "metadata": {},
   "source": [
    "## 2-3"
   ]
  },
  {
   "cell_type": "code",
   "execution_count": 3,
   "id": "e8111723",
   "metadata": {},
   "outputs": [
    {
     "name": "stdout",
     "output_type": "stream",
     "text": [
      "Hi, Jessie. How are you doing today?\n"
     ]
    }
   ],
   "source": [
    "name = \"Jessie\"\n",
    "print(\"Hi, \"+name+\". How are you doing today?\")"
   ]
  },
  {
   "cell_type": "markdown",
   "id": "5cdb70c6",
   "metadata": {},
   "source": [
    "## 2-4"
   ]
  },
  {
   "cell_type": "code",
   "execution_count": 4,
   "id": "f6a2e722",
   "metadata": {},
   "outputs": [
    {
     "name": "stdout",
     "output_type": "stream",
     "text": [
      "jessie\n",
      "JESSIE\n",
      "Jessie\n"
     ]
    }
   ],
   "source": [
    "print(name.lower())\n",
    "print(name.upper())\n",
    "print(name.title())"
   ]
  },
  {
   "cell_type": "markdown",
   "id": "6ce75fb8",
   "metadata": {},
   "source": [
    "## 2-5 "
   ]
  },
  {
   "cell_type": "code",
   "execution_count": 5,
   "id": "30059357",
   "metadata": {},
   "outputs": [
    {
     "name": "stdout",
     "output_type": "stream",
     "text": [
      "J. R. R. Tolkein once said, \"Not all those who wander are lost.\"\n"
     ]
    }
   ],
   "source": [
    "print('J. R. R. Tolkein once said, \"Not all those who wander are lost.\"')"
   ]
  },
  {
   "cell_type": "markdown",
   "id": "38e6c9cb",
   "metadata": {},
   "source": [
    "## 2-6 "
   ]
  },
  {
   "cell_type": "code",
   "execution_count": 6,
   "id": "3f734efa",
   "metadata": {},
   "outputs": [
    {
     "name": "stdout",
     "output_type": "stream",
     "text": [
      "J. R. R. Tolkein once said, \"Not all those who wander are lost.\"\n"
     ]
    }
   ],
   "source": [
    "famous_person = \"J. R. R. Tolkein\"\n",
    "message = famous_person + ' once said, \"Not all those who wander are lost.\"'\n",
    "print(message)"
   ]
  },
  {
   "cell_type": "markdown",
   "id": "91b1a06c",
   "metadata": {},
   "source": [
    "## 2-7, 2-10"
   ]
  },
  {
   "cell_type": "code",
   "execution_count": 7,
   "id": "5c41b21c",
   "metadata": {},
   "outputs": [
    {
     "name": "stdout",
     "output_type": "stream",
     "text": [
      "Jessie Katz\t\n",
      "\n",
      "\tJessie Katz\n",
      "Jessie Katz\n"
     ]
    }
   ],
   "source": [
    "#testing strip functions\n",
    "name2 = \"\\tJessie Katz\\t\\n\"\n",
    "print(name2.lstrip())\n",
    "print(name2.rstrip())\n",
    "print(name2.strip())"
   ]
  },
  {
   "cell_type": "markdown",
   "id": "fe717ab9",
   "metadata": {},
   "source": [
    "## 2-10"
   ]
  },
  {
   "cell_type": "code",
   "execution_count": 8,
   "id": "722df85b",
   "metadata": {},
   "outputs": [
    {
     "name": "stdout",
     "output_type": "stream",
     "text": [
      "Tseten\n",
      "Rita\n",
      "Rachel\n"
     ]
    }
   ],
   "source": [
    "nameList = ['Tseten', 'Rita', 'Rachel']\n",
    "print(nameList[0])\n",
    "print(nameList[1])\n",
    "print(nameList[2])"
   ]
  }
 ],
 "metadata": {
  "kernelspec": {
   "display_name": "Python 3 (ipykernel)",
   "language": "python",
   "name": "python3"
  },
  "language_info": {
   "codemirror_mode": {
    "name": "ipython",
    "version": 3
   },
   "file_extension": ".py",
   "mimetype": "text/x-python",
   "name": "python",
   "nbconvert_exporter": "python",
   "pygments_lexer": "ipython3",
   "version": "3.9.7"
  }
 },
 "nbformat": 4,
 "nbformat_minor": 5
}
