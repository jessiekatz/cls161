{
 "cells": [
  {
   "cell_type": "markdown",
   "id": "27b8f0ab",
   "metadata": {},
   "source": [
    "# Chapter 4 Homework"
   ]
  },
  {
   "cell_type": "markdown",
   "id": "d4abbfdf",
   "metadata": {},
   "source": [
    "## 4.1"
   ]
  },
  {
   "cell_type": "code",
   "execution_count": 2,
   "id": "605e9bec",
   "metadata": {},
   "outputs": [
    {
     "name": "stdout",
     "output_type": "stream",
     "text": [
      "I love cheese\n",
      "I love margherita\n",
      "I love bbq\n",
      "My favorite pizzas are: \n",
      "cheese\n",
      "margherita\n",
      "bbq\n",
      "pineapple\n",
      "My friend's favorite pizzas are:\n",
      "cheese\n",
      "margherita\n",
      "bbq\n",
      "mushroom\n"
     ]
    }
   ],
   "source": [
    "pizza = ['cheese', 'margherita', 'bbq']\n",
    "for pizzas in pizza:\n",
    "    print(\"I love \"+pizzas)\n",
    "(\"I like cheese and bbq and margherita and cheese and bbq and \\n\" +\n",
    "\"cheese and bbq and margherita and cheese and bbq \\n\" +\n",
    "\"cheese and bbq and margherita and cheese and bbq pizza. I reaaly like pizza\")\n"
   ]
  },
  {
   "cell_type": "markdown",
   "id": "63822a11",
   "metadata": {},
   "source": [
    "## 4.2"
   ]
  },
  {
   "cell_type": "code",
   "execution_count": 3,
   "id": "d1cf60a6",
   "metadata": {},
   "outputs": [
    {
     "name": "stdout",
     "output_type": "stream",
     "text": [
      "dogs would make a great pet\n",
      "cats would make a great pet\n",
      "elephants would make a great pet\n",
      "These animals all have four legs\n"
     ]
    }
   ],
   "source": [
    "animals = ['dogs', 'cats', 'elephants']\n",
    "for animal in animals:\n",
    "    print(animal+\" would make a great pet\")\n",
    "print(\"These animals all have four legs\")\n",
    "    "
   ]
  },
  {
   "cell_type": "markdown",
   "id": "626e120d",
   "metadata": {},
   "source": [
    "## 4.3"
   ]
  },
  {
   "cell_type": "code",
   "execution_count": 4,
   "id": "37c85f7d",
   "metadata": {},
   "outputs": [
    {
     "name": "stdout",
     "output_type": "stream",
     "text": [
      "1\n",
      "2\n",
      "3\n",
      "4\n",
      "5\n",
      "6\n",
      "7\n",
      "8\n",
      "9\n",
      "10\n",
      "11\n",
      "12\n",
      "13\n",
      "14\n",
      "15\n",
      "16\n",
      "17\n",
      "18\n",
      "19\n",
      "20\n"
     ]
    }
   ],
   "source": [
    "for x in range(1,21):\n",
    "    print(x)"
   ]
  },
  {
   "cell_type": "markdown",
   "id": "67214d52",
   "metadata": {},
   "source": [
    "## 4.6"
   ]
  },
  {
   "cell_type": "code",
   "execution_count": 6,
   "id": "3e057ecc",
   "metadata": {},
   "outputs": [
    {
     "name": "stdout",
     "output_type": "stream",
     "text": [
      "1\n",
      "3\n",
      "5\n",
      "7\n",
      "9\n",
      "11\n",
      "13\n",
      "15\n",
      "17\n",
      "19\n"
     ]
    }
   ],
   "source": [
    "for x in range(1,21,2):\n",
    "    print(x)"
   ]
  },
  {
   "cell_type": "markdown",
   "id": "a60f491d",
   "metadata": {},
   "source": [
    "## 4.10"
   ]
  },
  {
   "cell_type": "markdown",
   "id": "dd567e17",
   "metadata": {},
   "source": [
    "### chapter 3, 3-4"
   ]
  },
  {
   "cell_type": "markdown",
   "id": "94536a7a",
   "metadata": {},
   "source": [
    "## 4.11"
   ]
  },
  {
   "cell_type": "code",
   "execution_count": 5,
   "id": "97a0a2b8",
   "metadata": {},
   "outputs": [
    {
     "name": "stdout",
     "output_type": "stream",
     "text": [
      "My favorite pizzas are: \n",
      "cheese\n",
      "margherita\n",
      "bbq\n",
      "pineapple\n",
      "pineapple\n",
      "My friend's favorite pizzas are:\n",
      "cheese\n",
      "margherita\n",
      "bbq\n",
      "mushroom\n"
     ]
    }
   ],
   "source": [
    "friend_pizzas = ['cheese', 'margherita', 'bbq']\n",
    "pizza.append('pineapple')\n",
    "friend_pizzas.append('mushroom')\n",
    "print('My favorite pizzas are: ')\n",
    "for p in pizza:\n",
    "    print(p)\n",
    "\n",
    "print(\"My friend's favorite pizzas are:\")\n",
    "for a in friend_pizzas:\n",
    "    print(a)"
   ]
  }
 ],
 "metadata": {
  "kernelspec": {
   "display_name": "Python 3 (ipykernel)",
   "language": "python",
   "name": "python3"
  },
  "language_info": {
   "codemirror_mode": {
    "name": "ipython",
    "version": 3
   },
   "file_extension": ".py",
   "mimetype": "text/x-python",
   "name": "python",
   "nbconvert_exporter": "python",
   "pygments_lexer": "ipython3",
   "version": "3.9.7"
  }
 },
 "nbformat": 4,
 "nbformat_minor": 5
}
