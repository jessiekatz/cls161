{
 "cells": [
  {
   "cell_type": "code",
   "execution_count": 1,
   "id": "3386eb45",
   "metadata": {},
   "outputs": [],
   "source": [
    "# imports\n",
    "import requests\n",
    "import json\n",
    "import math\n",
    "import pandas as pd\n",
    "import spacy"
   ]
  },
  {
   "cell_type": "code",
   "execution_count": 2,
   "id": "cbe5d1fc",
   "metadata": {},
   "outputs": [],
   "source": [
    "# initial search\n",
    "url = 'https://chroniclingamerica.loc.gov/search/pages/results/?state=New+York&date1=1770&date2=1865&proxtext=Ellis+Island&x=20&y=8&dateFilterType=yearRange&rows=20&searchType=basic&format=json'\n",
    "response = requests.get(url)\n",
    "raw = response.text\n",
    "results = json.loads(raw)"
   ]
  },
  {
   "cell_type": "code",
   "execution_count": 4,
   "id": "d310150b",
   "metadata": {},
   "outputs": [
    {
     "data": {
      "text/plain": [
       "dict_keys(['totalItems', 'endIndex', 'startIndex', 'itemsPerPage', 'items'])"
      ]
     },
     "execution_count": 4,
     "metadata": {},
     "output_type": "execute_result"
    }
   ],
   "source": [
    "results.keys()"
   ]
  },
  {
   "cell_type": "code",
   "execution_count": 5,
   "id": "b819caa4",
   "metadata": {},
   "outputs": [
    {
     "name": "stdout",
     "output_type": "stream",
     "text": [
      "{'sequence': 6, 'county': ['New York'], 'edition': None, 'frequency': 'Daily', 'id': '/lccn/sn83030313/1862-01-08/ed-1/seq-6/', 'subject': ['New York (N.Y.)--Newspapers.', 'New York (State)--New York County.--fast--(OCoLC)fst01234953', 'New York (State)--New York.--fast--(OCoLC)fst01204333', 'New York County (N.Y.)--Newspapers.'], 'city': ['New York'], 'date': '18620108', 'title': 'The New York herald. [volume]', 'end_year': 1920, 'note': ['Also issued on microfilm from the Library of Congress, Photoduplication Service.', 'Archived issues are available in digital format from the Library of Congress Chronicling America online collection.', 'Issues for Sept. 22, 1840-Jan. 31, 1920 called also whole no. 1566-30,476.', 'Merged with Sun (New York, N.Y. : 1916) to form Sun and the New York herald.', 'Steamer eds.: Herald for Europe, 1846-<1848>, and: California herald (New York, N.Y.), 1848-<1849>, and: New York herald (New York, N.Y. : California ed.), <1852-1858>, and: New York herald (New York, N.Y. : Pacific ed.), <1864-1865>', 'Weekly eds.: Weekly herald (New York, N.Y. : 1836), 1840-<1888>, and: Dollar weekly herald (New York, N.Y.), <1849>, and: Family herald, 1857-<1862>'], 'state': ['New York'], 'section_label': '', 'type': 'page', 'place_of_publication': 'New York [N.Y.]', 'start_year': 1840, 'edition_label': '', 'publisher': 'James Gordon Bennett', 'language': ['English'], 'alt_title': ['New York daily herald'], 'lccn': 'sn83030313', 'country': 'New York', 'ocr_eng': '6\\nNEW YORK HERALD.\\nJAMKS CORDOK BKSXKl\\'T,\\nti n or and pttoi iueroa.\\nerUC\\'E N. W. COltNKll or FCLTO.V AND NASSAU STS.\\nti-XVS cm*}- m J#\" \\' \\'>y iH.ii7 l?i/T h*i< \\\\i\\nVj the eenJer. A una tui bto Jt OilU <n.ie?* mAw 1W*\\ntuW\\nVolume XX.VII \\\\o. 1\\nAMUSEMENTS TI1IS EVENING.\\nNIB?\\'CS GARDEN, Broadway ? Hmter\\n^ffUITRR GARDEN. Brjad.vay ?Dot?Mr NucaeOR\\'l\\n^ UALIACK d THEATRE, No, Sit Bro:.dw?y.?Ucad to\\nLAURA KBFNE\\'S THEATRE. Broidsvsy.-LiTTH. Tos1.0\\nj k.oa Use so*.\\nKtw BOWERY THEATRE. Bewrery.?Jott> Paulding?\\nt\\\\ Uu ? Ai. I u\\'L Lolui.i.FOtYKRY\\nTHEATRE. Bowery.?snrAAtr\\'s Nj.tip.xtl\\ncibci\\'j. afieru ou -ld iiv ..i.\\nPYRNUM\\'S AMERICAS MU8FUM Broxidway ?Pay and\\ne- n. 0.xi?iaa?UirroruTAMU , wrtl*. am> utu-l ourl^jutuus.\\nBRYANTS\\' MINSTRELS, MachanlcS\\' Hall, 472 Broad\\nUn Hallo im Mascu.ua.\\nHOOLEY\\'S MINSTRELS. Stuy.esant lustitute. No. 659\\nBmadway.?ehuomam hoal*. oaalas. Ac.\\nMELODEON CONCERT HALL. No. 539 Broadway.?\\nsoags, da-XGIS, buklaiauu, Ac.?dlaxa.\\nCANTERBURY MUSIC BALL. 5S5 Broadway.? SOFQa,\\nPaxcaa. Br kllauIas, Ac.?Mows. Dachau; ulaO,\\noaif.TIES CONCERT room. 0(6 Broadway. ?drawixo\\nBp,\\'a E.vmrrAiiiiuisrs, Ballsts, i\\'a.xto*i*as, kabcxs, as.\\nAMERICAN MUSIC HALL, 444 Broadway.?Balr\\nXAls, 1\\'onto aulas, AC ?sca*n.\\\\t.\\nCRYSTAL PALACE CONCERT II ALL, No. 45 Bo.very.?\\nBci:les.jca?, Sosoi, Daaoks, Ac.?->:.w Y >:ak\\'s Call.\\nPYRISTAN CABINET OF WfNDER% 5?J Broadway.?\\nOpen dMly from 10 A. M. till V 1\\'. M.\\nKOVELTY MUSIC HALL, 616 Broadway.?Br&LrtQTas,\\nboagi. Oaacaj, AC.\\nTEIPLE SHEET^\\nKew York, Wedntiday, January 8, 1903*\\nTHE SITUATION.\\nThe largest foraging party which haB yet been\\ngent from the army on the Potomac went out yesterday\\ntowards Peacock Hill, Lewinsvillc, Fairfax\\nCourt House and Vienna. It consisted of three\\nfall brigades of General Smith\\'s division, supported\\nby a strong force of artillery. A large quantity of\\nhay, oats and corn was obtained, but no brush with\\nthe enemy took place, as was anticipated by the\\ntroops. The enemy were seen, however, in pretty\\nlarge force, encamped near Hawkhurst Mill, but as\\nGeneral Smith\\'s orders from headquarters forbade\\nhim to take any aggress!va action which might\\nprovoke a general engagement, and as the rebels\\nmade no show of attacking hit advance guard.no\\nCollision took place.\\nNo reports had reached Washington from the\\nLower Potomac yesterday, except that large quantities\\nof floating ice was blocking up the river. No\\ndemonstrations were made by the rebel batteries.\\nWe have further intelligence from Frederick,\\nMd., concerning the late attack of the rebels at\\nHancock, which conflrni3 the statements that the\\nrebels under General Jackson had retired after\\ntheir ineffectual shelling of the town. The rebel\\nforce consisted of ten regiments, together with a\\nlarge baggage and supply train. The future ruove.\\nmente of General Jackson were unknown.\\nReinforcements of men and abundant stores of\\nprovisions are being forwarded to our troops at\\nPort Royal and Key West from this city by transport\\nahips. The steamer City of New York and\\nths schooner James M. Moore left yesterday morning\\nfor Port Royal laden with provisions. The\\nUnited States steamer Connecticut is taking in\\npowder at Ellis\\' Island for the same place. The\\nteam transport Marion is loading with provisions\\nand army gtores at pier No. 4. and when ready to\\ntail, which will be in about a week from now. will\\ntake three hundred horses for the First Massachu- j\\netts cavalry, her destination also being Port\\nRoyal. The Ericsson will sail for Key Weat and |\\nFort Taylor to-morrow, with the Ninety-first i\\nNew York Volunteers, now stationed at Governor\\'s\\nIsland. The recent victorious advance of our\\ntroops at Port \\'toyal demands Immediate reinforcement\\na, and we hope that General Sherman will\\nbe sustained with troops and stores without delay.\\nBy a despatch from Cario, illiuo\\'s. we Itara that\\nFlag Officer Foote with the gunboats E--ex. Lexington\\nand Tyler, made a reconnohsanee down\\nthe Mississippi river to a point within two miles of\\nColumbus, yesterday mcrning. He went w\\'fuiu\\n200 yards of tho range of the rebel batteries, and\\non rctnrning was fired upon bp tho tebel gunboat\\nMohawk, but her shots all fell short. TLo reconnoissance\\nwas considered highly satisfactory,\\nas all the points on the river were accurately\\nexamined.\\nCONGRESS.\\nfn the Senate yesterday petitions for the ctnau.\\ncipation of slaves, and for the exchange of pi 1 oners\\nof war, were presented anJ referred. The bill\\nregarding the appointment of sutlers was reported\\nback by tho Military Committee, with amendments,\\nand ordered to be printed. Notice was given of a\\nbill to juuish Irsuds on the Treasury, and a bill\\nabolishing the [ranking privil. ec was introduced\\nby Mr. Powell, of Kentucky. A resolution was\\nadopted, instructing the Naval Committee to inquire\\nbow ibe practice Las prevailed In the navy of\\nmaking purchaser through other than recognized\\nagents, and if such have been made, whether larger\\npricoa have been paid. The Secretary of War\\nWas requested to report tb<\\' aggregate number of\\nthree years volunteer* in service, and in what\\nclasses they aervr, &c. The bill to increase the\\nnumber of cadeta at the West Point Military\\nAcademy wis then taken op, dueenssed, and rejected\\nby a vote of twelve yeas cainst twenty.\\n|vs nay*. Mr. Powell\\'s bill, introduced at the\\nextra session, to punich fraud* ou the Treasury,\\nwas taken up, and referred to the Judiciary Committee.\\nMr. Wilson\\'s bill providing for the\\npunishment of army officer*, by dismissal fr.nn\\nthe service, who shall detain fugitive slaree, was\\nalso talon up. A motion by Mr. Baulsbory, of\\nPclaware, to Indefinitely postpone the subject,\\nwas defeated -yeas thirteen, nay* twenty-three. (\\nThe further consideration of (he i,j]] then, on\\nmotion ol Mr. C\\'ariile, ol Viiainia, postponed for\\nthe present. The report ol 11,. Judiciary f\\'om\\nflitter, in favor of Mr. t -1 it n. laint to a seat as\\nSenator from Kansas, was taken up and priding\\nthe question the Senate adjourned.\\nIn the House of Representatives, the dornnvnU\\nrelative to the settlement of the Trent aCair were\\ngeoetved from the Pre ident. Mr Valland:gh.n.i,\\nOf Ohio, expressed his di-?*\\'.i*facti >n at the irpender\\nof Mason and Blidell, a. 1 ( n dieted th.\\nloss than three months w he inv Ived r\\nyvar with Oreat Britain. . .\\' it to the\\ncognition of the F?u\\'n?r . ,tj aa,i (ji0\\n^jtaifkiUg Up 0( the blO 1 \\'C M; , Mas.\\nNFW YORK\\ns&chusette, justified the capture of the rebel envova,\\nand said that England did iu? gf;i vous wrong\\nin demanding tlicir surrender. A k-g\\'hy, lively\\nand interesting discusion e nsued, and ti..ally the\\ndocuments were referred to the Committee on Foreign\\nAffairs. Tut House thonwenl into Committee\\n1 of the Whole on the Civil Appropriation hill, when\\nI the discussion on the Trent a\\'Tar was continued\\ntill the adjournni nt, without uction being taken\\non the subject before the committee.\\nMISCELLANEOUS NEWS.\\n. The Leg\\'s\\'atnre of the State of New York com.\\nmen\", d its session for the year 1st 2 at Albany\\nyeate.diy. liayoud the rout.no of organisation,\\nbut little business was transacted in either houso.\\nIn the Senure, Lieutenant Governor Campbell, as\\nex ofH lo prchling officer, called that body to\\norder and adm.ni and the oath to the moiubers,\\nwhen nn immediate organization was effected.\\nThe privileges of the floor were extended\\nto t\\\\>: \\'iioi ftiiuitgan, tr.9 nero 01 i.exmgion,\\nand he took a seat among the Senators. A\\nfew petitions were presented; among them\\none to prevent the tale of swill milk,\\nand one in reference to fortifying the town\\nand port of Cape Vincent, the northern terminus\\nof the Rome and Watertown Railroad, on\\nthe St. Lawrence river, which latter was referred\\nto !he Committee on Public Defence. In the As.\\nsemb\\'y all the members excepting one were present.\\nThe Secretary of State administered the\\noath to the legislators, and they immediately proceeded\\nto th clec\\'.ion of officers. On the first ballot\\nHenry J. Raymond was eleelcd Speaker, and\\nthe other portion of the organization was effected\\nwithout delay. The House did not transact any\\nlegislative business. The Governor\\'s Message was\\nreceived and read in both houses. It will be found\\nin full in our columns this morning.\\nWe publish to-day a lengthy report of the\\nexcellent address of the Hon. Edward Everett on\\nthe origin and character of the war, delivered last\\nevening at the Academy of Music, before the Mercantile\\nLibrary Association, and a very large\\naudience. The first part of the address is particularly\\ndevoted to a review of the causes of the\\nwar, beginning from the nullification system,\\nwhich prevailed many years ago. The lecture\\nwas listened to with marked interest, and, thongh\\nhurriedly compiled, the report we publish wilj\\ngive a fair idea of the purpose of the honorable\\ngentleman to those who had not the pleasure of\\nhearing him.\\nTo-day is the anniversary of the\\nbattle of New Orleans.\\nAugustus W. Bradford, the Governor elept of\\nMaryland, wiH be inaugurated to-day at Annapolis.\\nHis term of office is four years.\\nA great Union mass Convention will be held today\\nin Tlartfoiri), Conn. It will be addressed by\\nHon. Andrew Johnson, of Tennessee.\\nWe continue in to-day\\'s Huunn the pnblication\\nof copious frtryt? from 1?to fionthof* popSi-a\\nThe Richmond Iftarhlntr of the SCith alt. ridicules\\nthe idea of a Sedtbern tariff cn importations in a\\ntime of blorkadf and war, anil regards such a\\nmeasure as abeaYd and imbecile. It pays a high tribute\\nto the federal blockade, and insists that neither\\nSouthern iiigeuuity, statesmanship nor pride has\\nproduced a single measure for its oounteraction.\\n1 The Richmond Dispatch of the 31st ult. has a cot|\\nIdnish article, in which it says that Eilgland\\nj \"must have cotton that now lies landI\\nlocked In the Confederate States, or her\\nsubjects will break out in rebellion.\" The same\\nj paper makes complaints in exteiwo abont frauds in\\nthe Confederate commissariat. The Mobile Evening\\nj ifeirs of the 28th ult. has an account of an engagement\\nnear Mobile between tbe United States gunI\\nboat New London and the rebel gunboat Florida.\\nIt took place on the 24th ult. Of coarse the rebel\\ncraft was victorious (!). A rebel achooner was\\ncaptured off Fernandina, Florida, on the 27th nit.,\\nwliile attempting to ran the blockade of that\\nport.\\nThe Albany Journal says that the people will\\nstand by General McClellnn against all precipita.\\nt:onist?, intermeddling Congressional committees\\nend buncombe speeches of abolition agitators.\\nA despatch to a Philadelphia paper says that\\nGeneral Bigel has tendered his resignation.\\nThe Ninth New Jersey regiment, now Rationed\\nat Meridian Hill, opposite Washington, has been\\nassigned to General Burnelde\\'s expedition, on account\\nof its being composed of men from Tom*s\\nrircr and Great Egg Harbor, who are mostly need\\nto the management of surf boats.\\nThe Democratic State Convention of New\\nI Hampshire will meet to-day in Concord, to nominate\\na candidate for the office of Governor of the\\nState.\\nAdvices from the Sandwich Islands to the 23d oi\\nNovember state that the coffee crop promises an\\nunusually Urge yield this year. The natives of\\nKcu arc extensively engaged in planting cotton,\\nfor which the trader* pay eight cents per pound,\\ncash.\\nIn consequence of the heavy fall of snow on\\nMonday, it was generally supposed that akntiog\\nwould not be allowed in the Park yesterday. Con\\ntrary, however, to this expei u?tion. the ponds\\nwere cleared of snow to on extent suffl ient to\\nacoonmio late far more than the number of vi-.iters\\nwho appeared. During the day only six thousand\\np rsens enjoyed the pleasure of abating. The ice\\nw cleared by half-^aet tlx o\\'clock P. M., to ena\\'\\n!e the scrapers ard brooms to be used with\\nS\" h rivor nsto dear off every impedirrrnt to good\\nskating, and to-day wc may expect a dear Held of\\nire. Weather permitting, skating by moonlight\\nt 111 Lo allowed until half-past ten o\\'clock this evening.\\nand also on every other fair evening during\\nt ,e season. The snow from ofi the pends of the\\nBrooklyn and Williamsburg skating clubs was\\nI also promptly removed, and the paths leading\\nto eadi bwrpt clean, ?o that visiters could reach\\n| the ice with comfort. Those pcndi were well\\npatronized yesterday.\\nThe sleighing season has commenced w\\'th vigor\\n\\\\ a .d the Central Park was visited yesterday by\\neight h-.ndicd and sixty-one sleighs and cutters.\\nThe wheel vehicles were uraoag the things that\\nwere, and even equestrians were but lew and fur\\nbetween.\\nUnited States C. -oni-sior.cr Osborn yesterday\\ni iied a warrant forth?arrest of John Dean, a\\nlit itisli enbjcrt, laimed under the Extradition\\n| treaty, on a charge of having murdered a police\\nroan, earn-, d : >?> bo, on the Island 01 Jamah\\'s. \\'i!;o\\nccuMd\\'T.1 iakcn into custody by officer ratterson,\\naud committed lor examination.\\nIn tho Court of Oneral Session? yesterday a\\n(Jr.ind Jnry tves qualified for service during the\\npresent teriu of the court, and Judge McCunn delivered\\nto them a charge embracing the u?ual\\nsubject*. Daniel Sullivan, indicted for hilling John\\nCunningham by stabbing him ? ith a knife. pleadcd\\nguilty to manslaughter in the fonr\\'h degree. Mr.\\nHall uta\\'\\'d to the Court that tic evidence was of\\nuch a nature that If the case *;?s tried before a\\npetit jnry the verdh t would be for a low grade of\\nmanslaughter, and he therefore accepted the pica\\nwhich the primmer wmdi\\'po?rd to make. Judge\\nMoCnnntook fko papera in thu case for eAoruinatinn,\\nand remanded the prisoner for enteuce. Jr..\\nwwp.ta Johnson in \\'<> > f->r \\'u . , irv -u ti.. ; t 1 degree\\nin entering the d. .iir - ct Philip\\nH\\'dtJ!, j-\\'o. 486 Eighth averur, or. .1 night of Iho\\n15th of Argi:?t. wi b the intent to steal, v . ? convicted\\nof au a tempt, at larceny. He v.a- sent (o\\nthe penitentiary for three months, and or Uicd t<<\\npr y a fin* of MOT. Michael Sullivan and Tuba\\nCo oily, indh ted for the murder of Timothy if illiratt\\nby liitttnir him on the head v,ilh a clnh, inI\\nHinting vrovuds which caun I bb death, pleaded\\nguilty to roauelat htcr in the fotirib degree, and\\nWi i r. iick fur *c : ;uce.\\n| J r? trtiiilj th.ee ;* ...r ?--w publisted\\nla 1 -, ol ah t\\'vi , d til- i.i.d U.J\\nHERALD, WEDNESDAY,\\nremainder weekly and semi-weekly. Two of the\\ncumber are printed in German.\\nThe ice was stationary at Montreal on the 3d\\ninst., and the ice bridge across the St Luv-cuee\\nis now fully formed.\\nThe cotton motet was quiet yesterday, while price#\\nwere uiithangod. The ealos eiubraoed about 200 bales,\\ncl- .\\'ing on tlie basil of 38c. a 37c. for mi:l Iling uplands.\\nS^uio small iliat-c.\\' lot# were picked up ul a trifle under\\nthe Inside figure The flour market exhibited more\\nanimation, and sales wore rather larger, and the\\nbetter class of brand# wore somo bettor. Wheat wau\\nUrni, ea,*\\'tally for prime qualities, with rather mo o\\ndoing. Corn wa. in latter rcqn\\' -t, a d cloce I at aa ad\\nvauce of about lc. per bushel. Torlc was heavy and\\nlower, with mors doing at the eo: c ssion. Sugars wore\\nquite steady, with sale# of 800 a 4O0 hhdr, 1,600b xes\\nand 2,600 bujs remain jucos. CoSToe was in good uq est,\\nwith s ilea of 3,(?00 bag# common R;o at 181? c., a lS\\'^\\'c.,\\nand 300 do. at 10c. The st-ck einbrac d 62,610 b#gg\\nof Rio, an \\' a total of all kinds equal to 82,805 bags. Java\\nwas hold at 25c. a 26c. Freights were Q oner, with a fair\\namount of engngem.-uts. There was a speculative movement\\nin whiskey, growing out of the agitation of a pro\"\\nposed excise tax on all ilistilloif liquors. The sales em.\\nbraced 1,800 tibia, at 22c., which was an advance of between\\nlc. aud 2c. per gallon.\\nTiie Small Politicians of Congress ani\\n(be Great NccenliUt of (lie Country*\\nPromptly after the recess of the Christmas\\nand New Year liolidayg we hud supposed that\\nthe House of Representatives at Washington,\\ncharged with tho exclusiv e authority of initiating\\nthe ways and means for tho relief of the\\nTreasury, would enter upon the consideration\\nof some financial scheme for raising the sinews\\nof war, for maintaining the credit of the government,\\nand for saving the country from the\\ndreadful calamities, at this crisis, of an irredeemable\\nand constantly depreciating shinplaster\\ncurrency. But what is tho fact ?\\nPromptly after the mooting of the House on\\nMonday last the disastrous battle at Ball\\'s\\nBluff and the \"almighty nigger\"\\' are brought\\nupon the carpet and monopolize the day\\'s debates.\\nMr. Roscoe L. Conkling, of Now York, rose\\nto a question of priviloge. The House, he said,\\nhad passed a resolution requesting the Secretary\\nof War to inform the House whether any steps\\nhave be^n taken to ascertain who are responsible\\nfor tj>e disastrous affair at Ball\\'s Bluff; and\\nthe Secretary, for an answer, had sent in the\\ninformation that the General-in-Chief had expressed\\nthe opinion that an inquiry into tho\\nsubject would not be just yet compatible with\\nthe public interest. Mr. Conkling contended\\nthat this was trifling with the dignity and priviIapab\\nof the House, and so he moved a Dream\\nbl? reciting the resolution herotofore adopted,\\nconcluding with a resolution that the answor to\\ntire Orel inquiry 1b ueltnei rraponstve nor satisfactory\\nto the House, and that the Secretary of\\nWar be directed to return a further answer.\\nUpon thie proposition the day was exhausted,\\nbeginning with an elabotate exposition by Mr.\\nConkling of tho whole budget of blunders committed\\non onr Bide, in tho fatal movement upon\\nBall\\'s Bluff, including some very broad insinuations\\nof treachery agaipst General Stone, and\\nsome suspicions that even General McClellan\\ndesires rather to conceal than to make known\\nall the responsibilities connected with this disastrous\\naffair. The sensible arguments of\\nMessrs. Richardson and Crittenden against this\\nproceeding had no other effect than to bring\\nout the inevitable Lovejoy with Lis infallible\\nnigger. lie said \"the regular military officers\\nare more in the way of an advance than any\\nother class;\" that \"the idea if we don\\'t hurt\\nanybody the rebels will return to their allegiance;\"\\nthat \"the fear in which wo stand of injuring\\nthe twin relic of barbarism paralyzes the\\nwhole army;\" that \"tha reason why we are\\nnot successful is that we stand before an incensed\\nGod;\" that we are false \"to tbe principles\\nof justice and truth, and those of human\\nequality?namely, liberty throughout all lands,\\nand to all the inhabitants thereof.\" Of course,\\nwith the everlasting nigger thus introduced,\\nBall\\'s Bluff for a time was forgotteu in another\\nuseless, and wore* than useless, discussion of\\nSouthern slavery.\\nAnd thus from day to day, since the first\\nMonday of December last, the time of the\\nRouse has been frittered away upon this ruinous\\nabolition idea of changing this war for \"the\\nintegrity of the Union\" into a fanatical crusade\\nfor the extirpation of slavery. Of the six hundred\\nami fifty thousand men in arms against\\nthis Southern rebellion, there are not, perhaps,\\nfive thousand who enlisted to fight upon this\\nabolition platform. Our soldiers hare volunteered\\nto fight for the restoration of our Southern\\nrevolted States to tho Union, leaving slavery\\nto take its chances. Wo are fighting to put\\nd^wn Southern white rebels, and not agninst\\nthe hundreds of thousands of Union men\\nthroughout the South who are awaiting the day\\nof their deliverance from JotT. Davis; we are\\nfighting to save tho South, not to destroy it; our\\nobject is to restore tho blessings of our federal\\nconstitution to the rebel Slates, and not to\\ntransfer thcia from one irresponsible military\\ndespotism to another.\\nWc bare an array end a navy mfficient for the\\nimmediate work in band; we have our array\\nand oui ncyso organized and distributed ns to\\nindicate the inevitable overthrow of this rcV\\nAlltnn nn.l in n i e?rv ftlir>rf f:mft P*if fm/\\\\nn?r\\nquestion is assuming an alarming shape. Sixty\\nmillions of ca*h recipe nuke a sorry flgur?\\nagainst s\\'.k hundred millions of expenditure./\\nTue receipts oi the Treasury must bo increased\\nto tho extent of a hundred and\\nfifty millions, and that right soon, or wo\\nshall bo deluged by a general outpouring of\\nfhinpla tors, nnd the fearful revulsion of 1837,\\nten times magnified in its evils, will Rgain coroo\\nupon us. Tho solvency and safety of the\\nTreasury, our currency, our credit, our com-\\'\\nmerce, as a people?our very existence ns an independent\\nnotion- are all now depend\\'ng upon\\nthe action of Congress on this all important\\nmoney question. Wo bam plenty of money\\nand means in the country?they are at the service\\nof the government; Let if Congress shall\\nfell to adopt the necessary measures of taxation.\\nand such ecu for the regulation of the cur.\\nrcncy and common > of tho country, nnd for tho\\nencouragement oi its suffering business classes,\\nus iho crisis demands, wc slull before long he\\nsi.Tering all the evils of a sweeping financial\\nrevulsion.\\nWc earnestly Cull upon the tloase of Representatives,\\nthorefnro, to drop tho \\'almighty\\nfor u while, and to (1<, >te a foa weeks\\n\\' ) jko \"almighty dollar.\" It res too Ion;: puree\\nof England which conquered tho great Napo\\nIron. and the heevieet pu. <? in this contest will\\n1.0 wore than a match for the heaviest artillery.\\n:. .1 wi Lave ho h, and Co w, having pro*\\ni il-e aril lory, should now 1 euro It in t\\' u\\nhau i\\' of t1\\' army, and turn With spat lal niton*\\nlion to theI\\'ie oi the Tie . y r, l ^ ..u #\\nupon tho i?A: ey que ilon. Van crisis d nam1\\na new financial sy.lt\\' , gra-iafticJ upon t1\\nC( t> of \\' : f -re C/, \\' ,\\nJANUARY 8, 1862.?TRIP\\ncommerce and business affair#, in the midst of a\\ndoincstio war, culling for au expenditure of six\\nhundred million* a yc.ir.\\nLet us fir t save the government and reestablish\\ntlio Union: for then it will be time\\nenough for a permanent settlement of tho slavery\\nquestion. Surely wo have no time now to\\nbe debating a war of negro emancipation, when\\nuot only Southern slavery, but the higher principles\\nof Northern liberty, will depend upon\\ntho wise or foolish prosecution of this war.\\nSmall politicians and fanatics, with their contemptible\\nparty ami personal prejudices, have\\nappropriated loo much of the time of this responsible\\nCongruus. Tho Treasury und the\\ncountry now demand some attention to such\\nsubjects as our finances, our currency, our commerce,\\nand our business men brought to bankruptcy\\nby this rebellion.\\nThe Povt rnor\\'j Plesiagc?An Encyclopedia\\nof Eojiulitr Knowledge fur New\\nYork.\\nWe think w o might safely offer a prize, for\\n\"vnrir nn:> whn will rfliil thrmx/h from betrin- I\\nniiig to end, at one sitting, the Message of Governor\\nMorgan, to which wo devote so large a\\nportion of this day\\'s triple sheet. Should any\\nindividual have tho perseverance and soil-denial\\nto do so, it onght to bo worth u thousand\\ndollars to him, more or less, for it contains a\\ncompendious array of information <le omnibus\\nrebus ct quibus dam aliis, unequalled in modern\\npolitical literature. It will prove a perfect\\nvade mecum to members of the Legislature, and\\nan appropriation ought to be made immediately\\nto supply it with an index. All that is\\nneeded to make it oomplote, would be a prefatory\\nhistory of the world, from its creation\\nup to tho present time, with exegetical annotations\\non the fall of the angels, and various kindred\\npoints of metaphysico-historical philosophy.\\nIt is on excellent message, an astonishing\\nmessage, and should be duly embalmed iu\\na properly sized folio volume.\\nBeginning with the war, and an extended\\npanegyric of the devoted loyalty of the\\ncitizens of New York, the Governor\\'s Message\\npasses on to congratulations upon the prompt\\nand universal execution of the laws, during the\\nyear 1861; analyzes judiciously, for the space\\nof a column, the management of the canals?\\nclosing with certain wise recommendations\\nwith respect to tolls, and the laws regulating\\nrepairs of sections; parenthesizes largely about\\nrailroads, and their effects political and financial:\\nwades fearlessly into the subject of the\\ngeneral fund debt, supplying admirable sug\\ngostlons and copious intonnation respect\"\\ning past, presont and future taxation; db\"\\ncusses defects in the assessment laws: alludes\\n\\' incidentally,*\\' us u matter of\\nduty.\" to sundry details enlarged ou in\\nprovious messages; demands, with cogent\\nand satisfactory reasons, a repeal of the nets of\\n1M50 and 1801 in relation to capital punishment;\\nelaborates the views of the Chief Magistrate of\\nthe State concerning the pardoning power; discourses\\nwith able amplifications, and manifold\\nuseful hints, with reference to prison disciplineand\\nthe necessity of the appointment of a commission\\nto inquire into monetary and penal\\nabuses; cautiously praises the system of State\\neducation and adds sundry recommendations;\\ndevotes a lengthy paragraph to the Banking\\nDepartment, and another to insurance companies:\\ntakes up, seriatim, the Onondaga salt\\nworks, the report of the Superintendent of\\nWeights and Measures, the afl\\'ahs of the Commissioners\\nof the Board of Emigration, and by\\na natural process annexes to the latter the best\\nmode of treating yellow fever, and our manifold\\nQuarantine troubles. The Metropolitan\\npolice, which is said to be \"equal to the objects\\nsought in its eatablMmient;\" the report of thBoard\\nof Commissioners of Pilots; the Port\\n\"Wardens; Central Park: Deaf and Dumb Asylum:\\nAsylum for Idiots and Lunatic Asylum;\\nInebriate Asylum; Society for the Reformation\\nof Juvenile Delinquents; Western House of\\nRefuge; Department of Public Charities and\\nV/OrrWUtMl, uvnr ui lunii I.nu uuiupitiiii UI nifty.\\ningbeen neglected by Governor Morgan, in the\\nelaborate paper before us, and moat of them\\ncome in for a large share of approbation. Agricultural\\ninterests and board* of aupervisors;\\nvillage charters, and town elections; the Buffering\\npoor in Kansas, and the Paeiiid telegraphic\\nline; the increased representation of this State\\nin Congress, and the direct tax of $2,603,918 ?>fi\\nimposed by tLe government ol the United\\nStates upon the State of New York are attended\\nto with equal thoroughness. The Governor\\nwisely recommends that this indebtedness\\nshould be assumed by the State Legislature,\\nund paid by a suitable mill tax on property.\\nThe necessity of fostering. locally, tLo military\\npirit of the age is dwelt on. and the closing\\ntliiid part of the menage Is then devoted to a\\nhistory of the ho.^tilit iee between North and\\nSouth, and the noble sacrifices pecuniary and\\nphysical that Now Tork has made to procure\\nthe restoration of the Union.\\nGovernor Morgan very patriotically und judiciously\\nomits sny direct reference to the larcry\\nquestion. Ife propounds no pet theory\\nof emancipation or colonization, and r^ejns\\ngenerally willing to trust in the sagacity,\\npromises and wisdom of tl.o President and Lis\\nadvisers to bring the war to o successful close,\\nwithout endeavoring to complicate issues or\\naggravate iuo causes oi uiseoru aireauy existing\\nin the country. Neither dnee he say anything\\nof note, with respect to the city charier,\\nuid the duty of the Legislature of the Stale in\\nthe premises, rrobably foreseeing that there\\nwill he quite enough talk about it, in Congress\\nnnd elsewhere, without bi* assistance, he nlfo\\navoids nnv mention of the ninety-five thousand\\ndollars paid to an agent of tbo Navy Department\\niu this city during the four month-\\' previous\\nlo-i-i.-t September, for sen ices iu making\\npurchases for tbo general government. The\\nVan Wyck Committee, nnd Confidence Cumining-\\'\\nfifteen days at the public crib are not\\nalluded to directly or indirectly, but, all thing\\'*\\nconsidered, tlii i* perhaps not surprising.\\nThe public will rejoice that the troubles of\\nthe war. und the anxieties inseparable from his\\nposition at Commander-in-Chief of the forces of\\nhe otate of New York, have not compelled\\nMiyoi General Morg. n to engross so much of\\ntac fmt 0! uovernor raorpnn. cs io ooitgo uim\\ntone loct proper cure for their interests- on\\np. pe \\\\ 1 i.-? Ah < ago will commend iUxdf, t.g\\nju(li< jh, moderate and profn?ely stv\\'.-muuliLo,\\nto its rea l.T*, and will bo found valuable\\nally to tbft\\'O who may choo:o to nr. ler\\nt.ion Bk<>/ n. .:-m of It? details, Ti e (Jovcrtlor\\nw\\'-ll,: ul, b(>w(>MT, i moro practical\\nlield for or\\'-1 Mng bin functions as (Jhl-f\\nAf \\' > < * o the Ft-.it?. Tho j\\'K i\\'nt Le\\nri- - o hi\\' fair fo ho on? of tl ino-t\\na\\', i. ial?f.v oo. i.pt 1! V. has ever (11 ;(iv ; tho\\nf\\'l|, o( f.?\\'1 (, nifi ia lit \\' ) fl Italian till \\' 1)1\\' ? i\\nLB SHEBT.\\nwill bo fore 3d through the Senate and Assembly\\nof tho most pernicious character. Symptoms\\nare already muaifost of a profuse expenditure\\nof the pu\\' lio money, for iniquitous, jobbiug\\npurposes which can have no eft\\'ectivo cheek except\\nin the veto power with whioh the l?xooulive\\nis wisely endowed by the constitution.\\nGovernor Morgan should bo prepared to use his\\nprerogative fearlessly and boldly. Ho should\\ndetermine to withstand, by every moans under\\nhis control the torrout of corruption that is\\nabout to break loose, lie is himself au upright\\nman, and his integrity is questioned by no one.\\nIf the agency of tho Navy Department had\\nbeen entrusted to his care, the United States\\nTreasury would bo $y5,000 ricLor than it is at\\nthis dsy. But if on this score he is individually\\nirreproachable, be must prove himself equally\\nso as the sheet anchor of safety of the whole\\nCommonw ealth, in a period of too general ve\\nnalltj and disorder. I>y a wise, bold uso of tho\\nveto power, Govevnor Morgan can, dining Qio\\ncoming few months render incalculable service#\\nto the State of New York.\\nGovernment and the Press.\\nThe doulliof Prince Albert is likely to result\\nin many changes in the British government.\\nTho composition of the Cabinet will undoubtedly\\nbe affected by the event, and many discordant\\nelements will arise requiring the exercise of\\nthe royal prerogative. The pillar of the\\nthrone has been removed, and there is no\\nknowing what events may follow. It is well\\nknown that Prince Albert was tho constant\\nadviser of the Queen in all matters of Slate,\\nand that it was owing to his excellent influence\\nthat the Crown, during the present reign,\\nmaintained that desirable position towards all\\nparties which incurred the displeasure of none.\\nThe Queen now stands alone, without an adviser;\\nbut, as a woman and a sovereign, she will\\nbe unable to act without one, and tho future of\\nher illustrious career will entirely depend upon\\nwhom she may select as her guide. The Prince\\nofWules may possibly succeed in filling his\\nfather\\'s place as the adviser of her Majesty, or\\nit may bo that she may marry again; for there\\nare many in Germany of royal blood who\\nwould be exceedingly glad to step into the\\nshoes of the late consort. But in any case the\\nTrince of Wales cannot fail to be brought more\\nprominently forward than hitherto.\\nIn the settlement of the various difficulties\\nthat may present themselves the press will,\\nwithout doubt, play an important part, and it\\nis fortunate that the British government does\\nnot ignore its power, but diverts it to ita own\\nadvantage. In this respect it is like I.ouis Napoleon:\\nand therefore it is that in England nud\\nFrance we see a well managed and highly\\nappreciated press contributing to the strength\\nof those government*, and not, a? formerly, to\\ntheir disadvantage. Louis Philippe and Guizot\\ndid not know how to treat the press. They\\nfoolishly despised it and ignored its influence,\\na consequence of which was that towards the\\nclose of that monarch\\'s reign, of the twenty\\nnewspapers published in Paris .-.even to en were\\nhostile to the government, and to their united\\nefforts limy l>e traced the catastrophe whic h followed.\\nLord Palmerston was the first state?\\nman in England who prominently availed himself\\nof the power of the pies\\'; and to this much\\nof Iiis success in political life is owing. We\\nmay trace government influence in the tone of\\nmost of the London journals in favor of aristocracy:\\nand from the fiunkeyisin prevalent\\namong the anonymous journalists ol England\\nthis influence is exerted with little difficulty.\\nAt the same time the?o new.spaper writers,\\nalmost without exception, are opposed to aristocracy\\npersonally, and when they support it\\nare merely bowing to a power they are unwilling\\nto resist. It is for the reason that journalism\\nis not entirely anonymous in tbo*United\\nStates, as it is in England, that it partakes of a\\nhigher character, just as it does in France,\\nwhere every newspaper article is acknowledged\\nby its writer. Nevertheless, our governrnont\\nand politicians do not appear to have yet appreciated\\nthe merits of the independent American\\npre<s. Accustomed, in the first instance,\\nto merely party organ*, they have not divested\\nthemselves of the ideas to which thoi-o organs\\nnecessarily give ri-e. But the importance of\\ndaily more conspicuous, and it will soon earn\\nfor itself the of the second instead of the\\nfourth estate.\\nFixwoul Con on to*01 tbkCm sntv. Whilst\\nCongress i? wasting the precious hours of the\\nsession in ihe discussion of questions which belong\\nto the executive business of the War I)opnitmcnt,\\nand the agitation of which can be of\\nno sort of benefit at llio present time, tin- linanci.d\\naffaire of tho country aio in a condition\\nwluoh excite* the utmost anxiety und alarm,\\nin another week the Treasury will be without a\\ncut, and in financial and commercial bu-dnrvs\\nof every kind the piospect is fast precipitating\\nmatters toward- a panic. Thorn a lio Lave anything\\nto dispo.so of, nud who can rcnli/o it, are\\ninvesting the proceed-; in gold or in for ig.i exchanges.\\nso as to be prepared for what ^ cms\\ninevitable. Jl is evident that, unless Congress\\nact? speedily and energetically, not only will\\nwe be overtaken by a financial revulsion\\nseverer thau any \\\\vn havens yet encountered,\\nbut the credit of the government will bo destroyed.\\nand our army, which is being brought\\ninto such flno condition, utterly dcmoiul!\\n\\\\/l\"\\\\ Thl? IK-Ilft .1\\' M\\' It \\' 1 <.\\'?! II I 1?11? IPtnitf\\nmoney, -m far from ln-lping to cxiiicpto\\nus froui our embarrassments, will only\\nrender them low ea*y of solution. A nation\\nHint h?? recourse to Midi expedients i? bent on\\nBuicide. Jn taxation nlone can hp find the\\nmeuus of providing for the burden* tlint the\\nw ar impose* upon us. Kvery article of luxury,\\nevery deed or paper relating to the transfer of\\nreal or porsouai properly, promissory notes\\nand bills of excimnga?every tiling, in short that,\\nis susceptible of being thus charged -dioiild\\nbear its proportion of thena, in the form tiiher\\nof direct taxes or stump duties, in thin way a\\nrevenue of a couple of hundred millions could\\nbe rained to secure the interest on the heavy\\n, war debt that we ore iucurring, and to leave n\\nlarge surplus to a??ift in providing for the\\nwants of the government, ll Congress is animated\\nby the lend sense of pniviotr?tn, rind Is\\ndesirous to spare the ctuulry ihe huuilUUou\\nof ui annihilated public credit, as well ns the\\ndisgrace attending th* triumph of the maelIion,\\nit will at own apply iivif to <1. ftiljn tinent\\nof the taxation in o* >, 1 y l> no -.nipli-h\\nthosa object*. I\\'ln country v, m i or in h\\nbetter cot dition to r spoud to the tails tint\\nvrl! be thus made uj- a I , I it will t be more\\nchcoifolly mad \\'can, uathe conviction row\\ngei orally ??ii!Ttiiiricl, <! .1, they pro? do the\\nonly rafa o.id 1<; i:\\'rr \\' i rem ady for t\\' cti li\\n1*1\" <i ? i \\' TO \\' \" O il\\' ?\\nAn Important IAlerttrjr Work.\\nWo understand that a work, called \\'\\'Ti e Lifh\\nand Times of Jamc3 Buohanau,\" and written by\\nthe ex-President himself, is now printing, and\\nwill soon bo published at Philadelphia. As Mr.\\nBuchanan is as littlo noted for brevity as for wit,\\nthe book will probably be long winded aud\\ncomprise several volumes. It is said to bo very\\nwell written, very severe and sarcastic, and it\\npitches iuto Buchanan\\'s own Cabinot in the\\nroughest possible style. Its object is to prove\\nthat Mr. Buchanan is and always has been a\\ntrue Union man.\\nThe venerable politician and humbugged cxPresidont\\ncould not v/uit, it seems, uulil the\\ngrass grow over his grave to have his lifo writton\\nand his virtues and failing\\'s displayed.\\nPerhaps he undertook rho task him?elf because\\nho distrusts and wishes to forestall the ca\\'.tu\\njudgment of tho country aud the world. Ilo\\nmight hftvo spared himself the labor aad tho\\npens and ink, however, for the popular estimation\\nof Mr. Buchanan is too well settled and too\\nnearly right to ho disturbed or altered by this\\nanlohumouB attempt at self-justification. Juet\\nas there ore Bins of omission and sins of commission,\\nso there is a treason in refraining from\\nsuppressing, as well as a treason in abetting\\nand assisting a rebellion. Try as he will,\\nMr. Buchanan cannot defend bimeolf from,\\nthe charge of treasonable omission.} of\\nduty. There may bo no evideneo to\\nsliow that be was a traitor in act and deed; but,\\nUnion man as he professes to be, there is amplo\\nevidence that be was a traitor in not noting,\\nwhen., by a little courage and decision, he could\\nhave saved the Uniou, and that without a civil\\nwar.\\nIt is beyond all question that the two administrations\\nwhhh preceded iho present fostered\\nand strengthened the rebellion, which had been\\nconcocted years ago, aud gave it form and\\npower. Jeff. Davis, now the chief the rebels,\\nwas the master spirit of poor Pierce\\'s Cabinet.\\nHe was the bully of the whole concern, aud\\nruled the roast as he pleased. C\\'ushiug and the\\n| rest submitted to him almost without a murI\\nJ :< II,.. nl.? littlA\\nII1UI , ttUU 11 iTldltjr UVIT uuu iucu ruurtvuuiimv\\nspunk he was soundly slapped upon his patched\\nbreeches, and soon subsided. Poor Pierce kimpelf\\nwas a mere nincompoop, whose only ambition\\nwa? to look nice and n e ar pretty pumps,\\nand whose only talent was a knack of getting\\noft\" a neat after dinner speech. Without the\\nslightest mind of his own, he fluttorod like a\\nfeather in every breeze, and was pulled this\\nway and thai like a fancy dancing jack. Among\\nbuch incapnbles Jeff. Davis was easily chiefs\\nand managed everything quite his own way*\\nSo, if the idea of a Southern confederacy was\\nplained by Paul Calhoun, it was certainly\\nwatered by Apollos Pierce, and the adniinis*\\ntration of James Buchanan gave the treasonable\\nincrease.\\nFor poor, shiftless, feiblo Pierce was not\\nhalf so bad as the imbecile and blundering\\nBuchanan, in Pierco\\'s Cabinet Jelf. Davi*\\nruled; but in Buchnnau\\'s Cabinet Floyd, Cobb\\nand Thompson played out boldly t; a gamo of\\nrebellion and armed treason at the expense of\\nthe country. To these rogues and traitor*\\nBuchanan always gave way, and Touccj and\\nthe other professedly loyal members of the\\nCabinet were as weak mid as thoroughly\\nuliAfin ne fKtt Pi-Aaulnnk liirrtcualf Tf Tinr?V?anan\\nbad been possessed of n particle of sagacity,\\ncommon sense or power, the schemes of Hoydj\\nCobb and Thompson would have been detected\\nand defeated. Or even if Buchanan had been\\'\\nhonestly humbugged up to Ihe time of the\\nsecession of South Carolina, Le oould then\\nhave nipped rebellion in the bud and settled\\nthe whole matter iu tire weeks, if he bad bees\\nendowed with a bit of pluck, capacity or\\ncourage. Had the JIkramv\\'s auvice, to call out\\nseventy-five thousand men and kick out tho\\nentire Cabinet, been followed in Dccembwtv\\n18G0. w e should never have heard of treason La\\ntb is country again.\\nBut, through the feebleness of poor Pierco,\\nmid the cowardlv imberilitv of blunderinw\\nBuchanan, the country has been brought to its\\npresent i risK For cither of them to attempt\\nto prove himself a putriot now is to outrage all\\nhistory un<l all reason. In cot doing right,\\nthese niou were guilty of doing wrong; for their\\ncriminal weakness was the strength of tho\\nrebellion.\\nHe.iih ok tiik Armt.?We pre?ont this\\nmorning a highly interesting report on the\\nsanitary features of our great volunteer army.\\nSo far the health of tho troops h.v> b en in ths\\nmain sat\\'-fictory Unquestionably very much\\nof the db . ase and MjUiriug coulu have 1 ooa\\nsrertt l.y f rand too-:: 1 03\\nthe;., t of the ul rieparlmc of the army\\nIn fut mailing medicines anil hospital supplies.\\nNo one c.i\\'i doubt, on reading t!:o report of\\ntL? iS:i!i. y Commission. that the labor cf\\ntlmse gee<1 omen has boen productive of\\nmuch good. Tbey report n most crcilitablo\\nalacrity on the part or the nrmy o.r.-.:or* in coc\\n] crating w ilh tb m to relieve suffer* and\\nimprove tin\\' Ii nllh of the camps. We bora\\nIbis report will I e read far anil wide by every\\noff: or in our forces, and particularly by every\\nnimy surgeon ?u.l every commander of\\nregiment or n brigade. Timely attention to\\njudicious .Hunitary rules will naio more suliorfng\\nthan all medical attendance a;d cars\\nafter tho men ate In ho pitai. Here,\\nwe may say, emphatically, that an ounco\\nof prevention is north five pounds of our?.\\nWe hope that no proft vioiial jealousy will\\nalamldn the w*aj of the lu\\' o- r?f ti,p Cemm\\'aBion,\\nand that they msy he furnbhed wiffc\\nabundant suppllo to ward of * tiff.vine ;,av?\\nlifo ?nd add l<? the vital ?\\'t< ??f our g.u.nni\\ndefenders. >1 ny ?buttle ha boon lo.*t a< leijr in\\nConwqucnco of woaknes-1 nrd dlcourngcment,\\nbrought on by a neglect of tie health uud rfllclency\\nof troops. The golden tnnxiinr of health\\nwith our voluulcers lay in a few word**, nnd\\npionj\\'nont ntnerg there are cleanliness. good\\nfood, warm clolliing, cheerfulness, activity\\nand temperance. We hope our member* of\\nCongrei will tee what i* said about sutlers, ami\\nthe ill haul I h and demoralization that spring\\nfrom lb\\' -e heartless leeeht\".\\n( treat praise I* awarded, and ntorc I due, to\\nour noblohenrted women for tie ir ofi\\'orts on\\nl.-liaKof the volunteer*. Wo trust Ihnt tho\\nladies eominHtct* in all of the cities, town* and\\n\\\\illag\\'\\'* throughout, tho country will eontinu*\\ntheir ed\\'orl ?. and conlinuo to n.nko the Sanitary\\nOommlr \\' tn ihe almoners of their country.\\nThey can h?vn no nobl<; examples than the one\\nshown by lh<* daughter of old Hen. Franklin,\\nand which called out uch n gallant and chirmli\\n; letter from Ocnoral Washington. Who cats\\nread without emotion thn contributions of tiie\\n\"Widow j: ;b *r\\'; and her family?the cheese,\\n<1 . .) ,11. ft\\'ri the copy of \"ftebi pi n\\nn M Vn,s and tho', 'batch': 'dlc_ambrosia_ver01', 'title_normal': 'new york herald.', 'url': 'https://chroniclingamerica.loc.gov/lccn/sn83030313/1862-01-08/ed-1/seq-6.json', 'place': ['New York--New York--New York'], 'page': '6'}\n"
     ]
    }
   ],
   "source": [
    "print(results['items'][0])"
   ]
  },
  {
   "cell_type": "code",
   "execution_count": 6,
   "id": "98cda38d",
   "metadata": {},
   "outputs": [],
   "source": [
    "data = []\n",
    "start_date = '1888'\n",
    "end_date = '1920'\n",
    "search_term = 'Ellis+Island'\n",
    "state = 'New+York'"
   ]
  },
  {
   "cell_type": "code",
   "execution_count": 7,
   "id": "917a1987",
   "metadata": {},
   "outputs": [
    {
     "name": "stdout",
     "output_type": "stream",
     "text": [
      "page 1 status code: 200\n",
      "page 2 status code: 200\n",
      "page 3 status code: 200\n",
      "page 4 status code: 200\n",
      "page 5 status code: 200\n",
      "page 6 status code: 200\n",
      "page 7 status code: 200\n",
      "page 8 status code: 200\n",
      "page 9 status code: 200\n",
      "page 10 status code: 200\n"
     ]
    }
   ],
   "source": [
    "for i in range(1, 11):  # for sake of time I'm doing only 10, you will want to put total_pages+1\n",
    "    url = (f'https://chroniclingamerica.loc.gov/search/pages/results/?state={state}&date1={start_date}'\n",
    "           f'&date2={end_date}&proxtext={search_term}&x=16&y=8&dateFilterType=yearRange&rows=20'\n",
    "           f'&searchType=basic&format=json&page={i}')  # f-string\n",
    "    response = requests.get(url)\n",
    "    raw = response.text\n",
    "    print(f'page {i} status code:', response.status_code)  # checking for errors\n",
    "    results = json.loads(raw)\n",
    "    items_ = results['items']\n",
    "    for item_ in items_:\n",
    "        row_data = {}\n",
    "        try:\n",
    "          row_data['title'] = item_['title_normal']\n",
    "        except:\n",
    "          row_data['title'] = \"none\"\n",
    "        try:\n",
    "          row_data['city'] = item_['city']\n",
    "        except:\n",
    "          row_data['city'] = \"none\"\n",
    "        try:\n",
    "          row_data['date'] = item_['date']\n",
    "        except:\n",
    "          row_data['date'] = \"none\"\n",
    "        try:\n",
    "          row_data['raw_text'] = item_['ocr_eng']\n",
    "        except:\n",
    "          row_data['raw_text'] = 'none'\n",
    "    data.append(row_data)"
   ]
  },
  {
   "cell_type": "code",
   "execution_count": 8,
   "id": "ca5754c8",
   "metadata": {},
   "outputs": [],
   "source": [
    "df = pd.DataFrame.from_dict(data)"
   ]
  },
  {
   "cell_type": "code",
   "execution_count": 9,
   "id": "e16e6361",
   "metadata": {},
   "outputs": [
    {
     "data": {
      "text/html": [
       "<div>\n",
       "<style scoped>\n",
       "    .dataframe tbody tr th:only-of-type {\n",
       "        vertical-align: middle;\n",
       "    }\n",
       "\n",
       "    .dataframe tbody tr th {\n",
       "        vertical-align: top;\n",
       "    }\n",
       "\n",
       "    .dataframe thead th {\n",
       "        text-align: right;\n",
       "    }\n",
       "</style>\n",
       "<table border=\"1\" class=\"dataframe\">\n",
       "  <thead>\n",
       "    <tr style=\"text-align: right;\">\n",
       "      <th></th>\n",
       "      <th>title</th>\n",
       "      <th>city</th>\n",
       "      <th>date</th>\n",
       "      <th>raw_text</th>\n",
       "    </tr>\n",
       "  </thead>\n",
       "  <tbody>\n",
       "    <tr>\n",
       "      <th>0</th>\n",
       "      <td>new-york tribune.</td>\n",
       "      <td>[New York]</td>\n",
       "      <td>19200815</td>\n",
       "      <td>A Wave of Barbarism Threatens to Inundate Euro...</td>\n",
       "    </tr>\n",
       "    <tr>\n",
       "      <th>1</th>\n",
       "      <td>new-york tribune.</td>\n",
       "      <td>[New York]</td>\n",
       "      <td>19001014</td>\n",
       "      <td>KEW IMMIGRANT STATION.\\nMAIN BUILDING ON ELLIS...</td>\n",
       "    </tr>\n",
       "    <tr>\n",
       "      <th>2</th>\n",
       "      <td>new-york tribune.</td>\n",
       "      <td>[New York]</td>\n",
       "      <td>19191125</td>\n",
       "      <td>Occasional adjustment of\\nyour eyeglasses is n...</td>\n",
       "    </tr>\n",
       "    <tr>\n",
       "      <th>3</th>\n",
       "      <td>new-york tribune.</td>\n",
       "      <td>[New York]</td>\n",
       "      <td>19200721</td>\n",
       "      <td>Travis Will Not\\nEnter the Race\\nFor Governor\\...</td>\n",
       "    </tr>\n",
       "    <tr>\n",
       "      <th>4</th>\n",
       "      <td>new-york tribune.</td>\n",
       "      <td>[New York]</td>\n",
       "      <td>19010721</td>\n",
       "      <td>DEPENDS UPON ' CROKER.\\nSPECULATION AS TO THE ...</td>\n",
       "    </tr>\n",
       "  </tbody>\n",
       "</table>\n",
       "</div>"
      ],
      "text/plain": [
       "               title        city      date  \\\n",
       "0  new-york tribune.  [New York]  19200815   \n",
       "1  new-york tribune.  [New York]  19001014   \n",
       "2  new-york tribune.  [New York]  19191125   \n",
       "3  new-york tribune.  [New York]  19200721   \n",
       "4  new-york tribune.  [New York]  19010721   \n",
       "\n",
       "                                            raw_text  \n",
       "0  A Wave of Barbarism Threatens to Inundate Euro...  \n",
       "1  KEW IMMIGRANT STATION.\\nMAIN BUILDING ON ELLIS...  \n",
       "2  Occasional adjustment of\\nyour eyeglasses is n...  \n",
       "3  Travis Will Not\\nEnter the Race\\nFor Governor\\...  \n",
       "4  DEPENDS UPON ' CROKER.\\nSPECULATION AS TO THE ...  "
      ]
     },
     "execution_count": 9,
     "metadata": {},
     "output_type": "execute_result"
    }
   ],
   "source": [
    "df.head()"
   ]
  },
  {
   "cell_type": "code",
   "execution_count": 10,
   "id": "1ff5912a",
   "metadata": {},
   "outputs": [],
   "source": [
    "df['date'] = pd.to_datetime(df['date'])"
   ]
  },
  {
   "cell_type": "code",
   "execution_count": 11,
   "id": "cfa14429",
   "metadata": {},
   "outputs": [
    {
     "data": {
      "text/html": [
       "<div>\n",
       "<style scoped>\n",
       "    .dataframe tbody tr th:only-of-type {\n",
       "        vertical-align: middle;\n",
       "    }\n",
       "\n",
       "    .dataframe tbody tr th {\n",
       "        vertical-align: top;\n",
       "    }\n",
       "\n",
       "    .dataframe thead th {\n",
       "        text-align: right;\n",
       "    }\n",
       "</style>\n",
       "<table border=\"1\" class=\"dataframe\">\n",
       "  <thead>\n",
       "    <tr style=\"text-align: right;\">\n",
       "      <th></th>\n",
       "      <th>title</th>\n",
       "      <th>city</th>\n",
       "      <th>date</th>\n",
       "      <th>raw_text</th>\n",
       "    </tr>\n",
       "  </thead>\n",
       "  <tbody>\n",
       "    <tr>\n",
       "      <th>0</th>\n",
       "      <td>new-york tribune.</td>\n",
       "      <td>[New York]</td>\n",
       "      <td>1920-08-15</td>\n",
       "      <td>A Wave of Barbarism Threatens to Inundate Euro...</td>\n",
       "    </tr>\n",
       "    <tr>\n",
       "      <th>1</th>\n",
       "      <td>new-york tribune.</td>\n",
       "      <td>[New York]</td>\n",
       "      <td>1900-10-14</td>\n",
       "      <td>KEW IMMIGRANT STATION.\\nMAIN BUILDING ON ELLIS...</td>\n",
       "    </tr>\n",
       "    <tr>\n",
       "      <th>2</th>\n",
       "      <td>new-york tribune.</td>\n",
       "      <td>[New York]</td>\n",
       "      <td>1919-11-25</td>\n",
       "      <td>Occasional adjustment of\\nyour eyeglasses is n...</td>\n",
       "    </tr>\n",
       "    <tr>\n",
       "      <th>3</th>\n",
       "      <td>new-york tribune.</td>\n",
       "      <td>[New York]</td>\n",
       "      <td>1920-07-21</td>\n",
       "      <td>Travis Will Not\\nEnter the Race\\nFor Governor\\...</td>\n",
       "    </tr>\n",
       "    <tr>\n",
       "      <th>4</th>\n",
       "      <td>new-york tribune.</td>\n",
       "      <td>[New York]</td>\n",
       "      <td>1901-07-21</td>\n",
       "      <td>DEPENDS UPON ' CROKER.\\nSPECULATION AS TO THE ...</td>\n",
       "    </tr>\n",
       "  </tbody>\n",
       "</table>\n",
       "</div>"
      ],
      "text/plain": [
       "               title        city       date  \\\n",
       "0  new-york tribune.  [New York] 1920-08-15   \n",
       "1  new-york tribune.  [New York] 1900-10-14   \n",
       "2  new-york tribune.  [New York] 1919-11-25   \n",
       "3  new-york tribune.  [New York] 1920-07-21   \n",
       "4  new-york tribune.  [New York] 1901-07-21   \n",
       "\n",
       "                                            raw_text  \n",
       "0  A Wave of Barbarism Threatens to Inundate Euro...  \n",
       "1  KEW IMMIGRANT STATION.\\nMAIN BUILDING ON ELLIS...  \n",
       "2  Occasional adjustment of\\nyour eyeglasses is n...  \n",
       "3  Travis Will Not\\nEnter the Race\\nFor Governor\\...  \n",
       "4  DEPENDS UPON ' CROKER.\\nSPECULATION AS TO THE ...  "
      ]
     },
     "execution_count": 11,
     "metadata": {},
     "output_type": "execute_result"
    }
   ],
   "source": [
    "df.head()"
   ]
  },
  {
   "cell_type": "code",
   "execution_count": 12,
   "id": "9fca5706",
   "metadata": {},
   "outputs": [],
   "source": [
    "# cleaning up \\n characters, stop words, and lemmatizing raw text\n",
    "nlp = spacy.load(\"en_core_web_sm\")\n",
    "nlp.disable_pipes('ner', 'parser')\n",
    "\n",
    "def process(text):\n",
    "    text = text.replace('\\n', ' ')\n",
    "    doc = nlp(text)\n",
    "    tokens = [token for token in doc]\n",
    "    no_stop = [token for token in tokens if not token.is_stop]\n",
    "    no_punct = [token for token in no_stop if token.is_alpha]\n",
    "    lemmas = [token.lemma_ for token in no_punct]\n",
    "    lemmas_lower = [lemma.lower() for lemma in lemmas]\n",
    "    lemmas_string = ' '.join(lemmas_lower)\n",
    "    return lemmas_string"
   ]
  },
  {
   "cell_type": "code",
   "execution_count": 13,
   "id": "e88a3c62",
   "metadata": {},
   "outputs": [],
   "source": [
    "df['lemmas'] = df['raw_text'].apply(process)"
   ]
  },
  {
   "cell_type": "code",
   "execution_count": 14,
   "id": "27f865e7",
   "metadata": {},
   "outputs": [
    {
     "data": {
      "text/html": [
       "<div>\n",
       "<style scoped>\n",
       "    .dataframe tbody tr th:only-of-type {\n",
       "        vertical-align: middle;\n",
       "    }\n",
       "\n",
       "    .dataframe tbody tr th {\n",
       "        vertical-align: top;\n",
       "    }\n",
       "\n",
       "    .dataframe thead th {\n",
       "        text-align: right;\n",
       "    }\n",
       "</style>\n",
       "<table border=\"1\" class=\"dataframe\">\n",
       "  <thead>\n",
       "    <tr style=\"text-align: right;\">\n",
       "      <th></th>\n",
       "      <th>title</th>\n",
       "      <th>city</th>\n",
       "      <th>date</th>\n",
       "      <th>raw_text</th>\n",
       "      <th>lemmas</th>\n",
       "    </tr>\n",
       "  </thead>\n",
       "  <tbody>\n",
       "    <tr>\n",
       "      <th>0</th>\n",
       "      <td>new-york tribune.</td>\n",
       "      <td>[New York]</td>\n",
       "      <td>1920-08-15</td>\n",
       "      <td>A Wave of Barbarism Threatens to Inundate Euro...</td>\n",
       "      <td>wave barbarism threaten inundate europe advanc...</td>\n",
       "    </tr>\n",
       "    <tr>\n",
       "      <th>1</th>\n",
       "      <td>new-york tribune.</td>\n",
       "      <td>[New York]</td>\n",
       "      <td>1900-10-14</td>\n",
       "      <td>KEW IMMIGRANT STATION.\\nMAIN BUILDING ON ELLIS...</td>\n",
       "      <td>kew immigrant station main building ellis isla...</td>\n",
       "    </tr>\n",
       "    <tr>\n",
       "      <th>2</th>\n",
       "      <td>new-york tribune.</td>\n",
       "      <td>[New York]</td>\n",
       "      <td>1919-11-25</td>\n",
       "      <td>Occasional adjustment of\\nyour eyeglasses is n...</td>\n",
       "      <td>occasional adjustment eyeglass necessary treat...</td>\n",
       "    </tr>\n",
       "    <tr>\n",
       "      <th>3</th>\n",
       "      <td>new-york tribune.</td>\n",
       "      <td>[New York]</td>\n",
       "      <td>1920-07-21</td>\n",
       "      <td>Travis Will Not\\nEnter the Race\\nFor Governor\\...</td>\n",
       "      <td>travis enter race governor values honor highly...</td>\n",
       "    </tr>\n",
       "    <tr>\n",
       "      <th>4</th>\n",
       "      <td>new-york tribune.</td>\n",
       "      <td>[New York]</td>\n",
       "      <td>1901-07-21</td>\n",
       "      <td>DEPENDS UPON ' CROKER.\\nSPECULATION AS TO THE ...</td>\n",
       "      <td>depend croker speculation tammany nominee idle...</td>\n",
       "    </tr>\n",
       "  </tbody>\n",
       "</table>\n",
       "</div>"
      ],
      "text/plain": [
       "               title        city       date  \\\n",
       "0  new-york tribune.  [New York] 1920-08-15   \n",
       "1  new-york tribune.  [New York] 1900-10-14   \n",
       "2  new-york tribune.  [New York] 1919-11-25   \n",
       "3  new-york tribune.  [New York] 1920-07-21   \n",
       "4  new-york tribune.  [New York] 1901-07-21   \n",
       "\n",
       "                                            raw_text  \\\n",
       "0  A Wave of Barbarism Threatens to Inundate Euro...   \n",
       "1  KEW IMMIGRANT STATION.\\nMAIN BUILDING ON ELLIS...   \n",
       "2  Occasional adjustment of\\nyour eyeglasses is n...   \n",
       "3  Travis Will Not\\nEnter the Race\\nFor Governor\\...   \n",
       "4  DEPENDS UPON ' CROKER.\\nSPECULATION AS TO THE ...   \n",
       "\n",
       "                                              lemmas  \n",
       "0  wave barbarism threaten inundate europe advanc...  \n",
       "1  kew immigrant station main building ellis isla...  \n",
       "2  occasional adjustment eyeglass necessary treat...  \n",
       "3  travis enter race governor values honor highly...  \n",
       "4  depend croker speculation tammany nominee idle...  "
      ]
     },
     "execution_count": 14,
     "metadata": {},
     "output_type": "execute_result"
    }
   ],
   "source": [
    "df.head()"
   ]
  },
  {
   "cell_type": "code",
   "execution_count": 16,
   "id": "83eae9c1",
   "metadata": {},
   "outputs": [],
   "source": [
    "df.to_csv(f'../cls161/{search_term}{start_date}-{end_date}.csv')"
   ]
  }
 ],
 "metadata": {
  "kernelspec": {
   "display_name": "Python 3 (ipykernel)",
   "language": "python",
   "name": "python3"
  },
  "language_info": {
   "codemirror_mode": {
    "name": "ipython",
    "version": 3
   },
   "file_extension": ".py",
   "mimetype": "text/x-python",
   "name": "python",
   "nbconvert_exporter": "python",
   "pygments_lexer": "ipython3",
   "version": "3.9.7"
  }
 },
 "nbformat": 4,
 "nbformat_minor": 5
}
